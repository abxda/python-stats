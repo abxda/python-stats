{
  "nbformat": 4,
  "nbformat_minor": 0,
  "metadata": {
    "colab": {
      "provenance": [],
      "authorship_tag": "ABX9TyOkIGXu2vNbhgF3KcGjmDKJ",
      "include_colab_link": true
    },
    "kernelspec": {
      "name": "python3",
      "display_name": "Python 3"
    },
    "language_info": {
      "name": "python"
    }
  },
  "cells": [
    {
      "cell_type": "markdown",
      "metadata": {
        "id": "view-in-github",
        "colab_type": "text"
      },
      "source": [
        "<a href=\"https://colab.research.google.com/github/abxda/python-stats/blob/main/STAT_Semana_13.ipynb\" target=\"_parent\"><img src=\"https://colab.research.google.com/assets/colab-badge.svg\" alt=\"Open In Colab\"/></a>"
      ]
    },
    {
      "cell_type": "markdown",
      "source": [
        "### Introducción a la Probabilidad Multivariable: Repaso de Conceptos Básicos\n",
        "\n",
        "La probabilidad multivariable se enfoca en el estudio de la probabilidad en situaciones donde intervienen dos o más variables aleatorias. Esta rama de la probabilidad tiene relevancia en diversas disciplinas, como la estadística, la ingeniería y la ciencia de datos. A continuación, se revisan los conceptos clave, acompañados de un ejemplo práctico en Python.\n",
        "\n",
        "#### 1. Variables Aleatorias\n",
        "\n",
        "Una **variable aleatoria** es una función que asigna un valor numérico a cada resultado de un experimento aleatorio. Dependiendo de los valores que puede tomar, las variables aleatorias se dividen en:\n",
        "\n",
        "- **Discretas**: Toman un número finito o contable de valores (por ejemplo, el número de caras al lanzar una moneda).\n",
        "- **Continuas**: Pueden tomar cualquier valor dentro de un intervalo (por ejemplo, la altura de una persona).\n",
        "\n",
        "En probabilidad multivariable, se trabaja con dos o más variables aleatorias de forma simultánea. Por ejemplo, el peso y la altura de una persona pueden considerarse como dos variables aleatorias conjuntas.\n",
        "\n",
        "**Ejemplo Práctico en Python:**\n",
        "\n",
        "Vamos a simular dos variables aleatorias discretas: el lanzamiento de dos dados. Luego, calcularemos la probabilidad conjunta de que el primer dado sea 3 y el segundo dado sea 5.\n"
      ],
      "metadata": {
        "id": "OIkfJsEChzQg"
      }
    },
    {
      "cell_type": "code",
      "execution_count": 1,
      "metadata": {
        "colab": {
          "base_uri": "https://localhost:8080/"
        },
        "id": "owdZCDqFgeZg",
        "outputId": "0a2ab6db-1764-4363-c145-5f615fbef299"
      },
      "outputs": [
        {
          "output_type": "stream",
          "name": "stdout",
          "text": [
            "La probabilidad conjunta de obtener un 3 en el primer dado y un 5 en el segundo dado es 0.0273\n"
          ]
        }
      ],
      "source": [
        "\n",
        "import numpy as np\n",
        "\n",
        "# Simulación de lanzamientos de dos dados\n",
        "np.random.seed(42)\n",
        "dados = np.random.randint(1, 7, size=(10000, 2))\n",
        "\n",
        "# Probabilidad de que el primer dado sea 3 y el segundo dado sea 5\n",
        "evento = (dados[:, 0] == 3) & (dados[:, 1] == 5)\n",
        "probabilidad_conjunta = np.mean(evento)\n",
        "\n",
        "print(f\"La probabilidad conjunta de obtener un 3 en el primer dado y un 5 en el segundo dado es {probabilidad_conjunta:.4f}\")\n"
      ]
    },
    {
      "cell_type": "markdown",
      "source": [
        "### Complemento: Cálculo Teórico de la Probabilidad Conjunta\n",
        "\n",
        "En el ejemplo anterior, realizamos una simulación para calcular la probabilidad conjunta de obtener un 3 en el primer dado y un 5 en el segundo dado. Sin embargo, también es posible calcular esta probabilidad de manera teórica utilizando el concepto de **variables independientes**.\n",
        "\n",
        "#### Probabilidad Teórica de la Conjunción de Eventos\n",
        "\n",
        "Dado que el resultado de cada dado es independiente, la probabilidad conjunta de obtener un 3 en el primer dado y un 5 en el segundo dado se puede calcular como el producto de las probabilidades individuales de cada evento.\n",
        "\n",
        "1. **Probabilidad de obtener un 3 en el primer dado:**\n",
        "   - Un dado tiene 6 caras, por lo que la probabilidad de obtener un 3 es $ \\frac{1}{6} $.\n",
        "\n",
        "2. **Probabilidad de obtener un 5 en el segundo dado:**\n",
        "   - Similarmente, la probabilidad de obtener un 5 en el segundo dado es $ \\frac{1}{6} $.\n",
        "\n",
        "3. **Probabilidad conjunta de obtener un 3 en el primer dado y un 5 en el segundo dado:**\n",
        "   - Dado que los eventos son independientes, la probabilidad conjunta se calcula multiplicando las probabilidades individuales:\n",
        "   \n",
        "   $\n",
        "   P(\\text{3 en el primer dado y 5 en el segundo dado}) = P(\\text{3 en el primer dado}) \\times P(\\text{5 en el segundo dado})\n",
        "   $\n",
        "   $\n",
        "   P(\\text{3 en el primer dado y 5 en el segundo dado}) = \\frac{1}{6} \\times \\frac{1}{6} = \\frac{1}{36}\n",
        "   $\n",
        "\n",
        "Por lo tanto, la **probabilidad teórica** de obtener un 3 en el primer dado y un 5 en el segundo dado es $ \\frac{1}{36} $, que es aproximadamente 0.0278.\n",
        "\n",
        "#### Comparación con la Simulación\n",
        "\n",
        "En la simulación anterior, calculamos la probabilidad conjunta utilizando 10,000 lanzamientos de dados. Si comparamos el resultado de la simulación con la probabilidad teórica, podemos verificar la precisión del método de simulación:\n"
      ],
      "metadata": {
        "id": "YxOflfgAjjQr"
      }
    },
    {
      "cell_type": "code",
      "source": [
        "probabilidad_teorica = 1/36\n",
        "print(f\"La probabilidad teórica de obtener un 3 en el primer dado y un 5 en el segundo dado es {probabilidad_teorica:.4f}\")\n"
      ],
      "metadata": {
        "colab": {
          "base_uri": "https://localhost:8080/"
        },
        "id": "_-HoHHRRjA6J",
        "outputId": "974390fa-1ec3-4729-b824-82423be184d6"
      },
      "execution_count": 7,
      "outputs": [
        {
          "output_type": "stream",
          "name": "stdout",
          "text": [
            "La probabilidad teórica de obtener un 3 en el primer dado y un 5 en el segundo dado es 0.0278\n"
          ]
        }
      ]
    },
    {
      "cell_type": "markdown",
      "source": [
        "Este cálculo confirma que, bajo el supuesto de independencia, la probabilidad de obtener un 3 en el primer dado y un 5 en el segundo dado es consistentemente $ \\frac{1}{36} $.\n",
        "\n",
        "Este enfoque teórico es fundamental para validar los resultados de simulaciones y entender cómo se comportan las variables aleatorias en diferentes escenarios."
      ],
      "metadata": {
        "id": "Wb5v_AZ2jpwX"
      }
    },
    {
      "cell_type": "markdown",
      "source": [
        "### 2. Independencia y Dependencia de Sucesos: Ejemplo Mejorado\n",
        "\n",
        "En probabilidad, la independencia y dependencia de sucesos sirven para entender cómo los eventos pueden o no influir en la probabilidad de otros. Para ilustrar claramente la **dependencia**, vamos a utilizar un ejemplo con la extracción de cartas de una baraja, ya que es un escenario donde la relación entre eventos es evidente.\n",
        "\n",
        "#### Ejemplo Teórico: Extracción de Cartas sin Reposición\n",
        "\n",
        "Consideremos una baraja estándar de 52 cartas, sin comodines. Supongamos que extraemos dos cartas de la baraja **sin reposición**, lo que significa que no devolvemos la primera carta a la baraja antes de extraer la segunda. Este escenario es un ejemplo claro de **dependencia** entre eventos.\n",
        "\n",
        "- **Evento A:** Extraer una carta específica (por ejemplo, el As de Corazones) en la primera extracción.\n",
        "- **Evento B:** Extraer una carta específica (por ejemplo, el Rey de Picas) en la segunda extracción.\n",
        "\n",
        "Si el evento A ocurre (se extrae el As de Corazones), el número total de cartas en la baraja disminuye a 51, lo que afecta la probabilidad de extraer el Rey de Picas en el evento B. Esto demuestra que los eventos A y B son **dependientes**, ya que la probabilidad de B depende de lo que sucedió en A.\n",
        "\n",
        "**Probabilidad Teórica:**\n",
        "\n",
        "1. **Probabilidad de Evento A (P(A)):** La probabilidad de extraer el As de Corazones en la primera extracción es $ P(A) = \\frac{1}{52} $.\n",
        "\n",
        "2. **Probabilidad de Evento B (P(B|A)):** Si ya hemos extraído el As de Corazones, la baraja ahora tiene 51 cartas, y la probabilidad de extraer el Rey de Picas en la segunda extracción es $ P(B|A) = \\frac{1}{51} $.\n",
        "\n",
        "La **probabilidad conjunta** de que ocurran ambos eventos, es decir, extraer primero el As de Corazones y luego el Rey de Picas, se calcula como:\n",
        "\n",
        "$\n",
        "P(A \\cap B) = P(A) \\times P(B|A) = \\frac{1}{52} \\times \\frac{1}{51} = \\frac{1}{2652}\n",
        "$\n",
        "\n",
        "#### Ejemplo Práctico en Python: Simulación de Extracción de Cartas sin Reposición\n",
        "\n",
        "Para reforzar el concepto, realizaremos una simulación en Python que replica el escenario descrito:\n"
      ],
      "metadata": {
        "id": "8BS6fPfriOuk"
      }
    },
    {
      "cell_type": "code",
      "source": [
        "import random\n",
        "\n",
        "# Crear una baraja de cartas\n",
        "baraja = list(range(1, 53))  # 52 cartas\n",
        "\n",
        "# Simulación de la extracción de dos cartas sin reposición\n",
        "random.seed(42)\n",
        "primera_carta = random.choice(baraja)\n",
        "baraja.remove(primera_carta)\n",
        "segunda_carta = random.choice(baraja)\n",
        "\n",
        "print(f\"Primera carta extraída: {primera_carta}\")\n",
        "print(f\"Segunda carta extraída: {segunda_carta}\")\n"
      ],
      "metadata": {
        "colab": {
          "base_uri": "https://localhost:8080/"
        },
        "id": "nMf4CESyiNqi",
        "outputId": "f7f9e826-a77c-4efe-94ea-4c627f5df753"
      },
      "execution_count": 2,
      "outputs": [
        {
          "output_type": "stream",
          "name": "stdout",
          "text": [
            "Primera carta extraída: 41\n",
            "Segunda carta extraída: 8\n"
          ]
        }
      ]
    },
    {
      "cell_type": "markdown",
      "source": [
        "En esta simulación, extraemos dos cartas consecutivamente sin devolver la primera carta a la baraja. El hecho de que la baraja cambie después de la primera extracción muestra claramente la **dependencia** entre las dos extracciones. Por ejemplo, si la primera carta extraída es el As de Corazones, la probabilidad de extraer el Rey de Picas en la segunda extracción ya no es $ \\frac{1}{52} $, sino $ \\frac{1}{51} $, ya que queda una carta menos en la baraja.\n",
        "\n",
        "#### Comparación con el Escenario Independiente\n",
        "\n",
        "Para contrastar, imaginemos que en lugar de extraer las cartas sin reposición, las devolviéramos a la baraja después de cada extracción. En este caso, cada extracción sería **independiente** de las demás. La probabilidad de extraer el As de Corazones en la primera extracción sería $ \\frac{1}{52} $, y la probabilidad de extraer el Rey de Picas en la segunda extracción también sería $ \\frac{1}{52} $, independientemente de lo que sucedió en la primera extracción.\n",
        "\n",
        "En este escenario independiente, la **probabilidad conjunta** de extraer primero el As de Corazones y luego el Rey de Picas sería:\n",
        "\n",
        "$\n",
        "P(A \\cap B) = P(A) \\times P(B) = \\frac{1}{52} \\times \\frac{1}{52} = \\frac{1}{2704}\n",
        "$\n",
        "\n",
        "Como podemos ver, en un escenario independiente, la probabilidad conjunta es menor que en el caso dependiente, lo que refuerza el hecho de que la dependencia entre eventos puede afectar significativamente las probabilidades.\n",
        "\n",
        "\n",
        "El ejemplo de la extracción de cartas sin reposición es un caso clásico de **dependencia** entre eventos, ya que la probabilidad de la segunda carta depende del resultado de la primera extracción. Este tipo de dependencia es común en muchos escenarios de la vida real, y entenderlo es clave para realizar análisis probabilísticos precisos.\n",
        "\n",
        "A través de la comparación con un escenario independiente, queda claro cómo la dependencia altera las probabilidades y cómo las situaciones dependientes requieren un enfoque más detallado en el cálculo de probabilidades conjuntas."
      ],
      "metadata": {
        "id": "YYWPxPnTn43G"
      }
    },
    {
      "cell_type": "markdown",
      "source": [
        "### 3. Probabilidad Condicionada: Conceptos y Ejemplos\n",
        "\n",
        "La **probabilidad condicionada** es un concepto clave en la teoría de la probabilidad que se refiere a la probabilidad de que ocurra un evento dado que ya ha ocurrido otro evento. Este concepto es especialmente útil en situaciones donde la ocurrencia de un evento puede influir en la probabilidad de otro evento.\n",
        "\n",
        "#### Definición Formal\n",
        "\n",
        "La probabilidad condicionada de un evento A dado que ha ocurrido un evento B, se denota como $ P(A|B) $ y se define de la siguiente manera:\n",
        "\n",
        "$\n",
        "P(A|B) = \\frac{P(A \\cap B)}{P(B)}\n",
        "$\n",
        "\n",
        "Donde:\n",
        "- $ P(A|B) $ es la probabilidad de que ocurra A dado que ha ocurrido B.\n",
        "- $ P(A \\cap B) $ es la probabilidad de que ocurran ambos eventos A y B simultáneamente.\n",
        "- $ P(B) $ es la probabilidad de que ocurra B.\n",
        "\n",
        "La fórmula muestra que la probabilidad condicionada se calcula dividiendo la probabilidad conjunta de A y B por la probabilidad de B. Esto tiene sentido intuitivo: si ya sabemos que B ha ocurrido, restringimos nuestro análisis a los casos donde B es verdadero y luego medimos la probabilidad de que A también ocurra dentro de ese contexto.\n",
        "\n",
        "#### Ejemplo Teórico: Probabilidad Condicionada en la Vida Real\n",
        "\n",
        "Imaginemos un escenario cotidiano: un día lluvioso y el tráfico en la ciudad. Queremos calcular la probabilidad de que haya tráfico (evento A) dado que ha llovido (evento B).\n",
        "\n",
        "- **P(A):** La probabilidad de que haya tráfico en un día cualquiera, independientemente del clima, podría ser del 30%.\n",
        "- **P(B):** La probabilidad de que llueva en un día cualquiera podría ser del 20%.\n",
        "- **P(A ∩ B):** La probabilidad de que haya tráfico y que también esté lloviendo podría ser del 15%.\n",
        "\n",
        "Ahora, queremos saber cuál es la **probabilidad condicionada** de que haya tráfico sabiendo que ha llovido:\n",
        "\n",
        "$\n",
        "P(A|B) = \\frac{P(A \\cap B)}{P(B)} = \\frac{0.15}{0.20} = 0.75\n",
        "$\n",
        "\n",
        "Esto significa que si sabemos que ha llovido, la probabilidad de que haya tráfico aumenta al 75%, lo que tiene sentido intuitivo, ya que la lluvia suele causar más tráfico.\n",
        "\n",
        "#### Relación con la Independencia de Eventos\n",
        "\n",
        "Es importante destacar que si los eventos A y B son **independientes**, entonces la probabilidad condicionada $ P(A|B) $ es igual a $ P(A) $. Esto se debe a que en un escenario de independencia, la ocurrencia de B no afecta la probabilidad de A.\n",
        "\n",
        "En términos matemáticos, si A y B son independientes, entonces:\n",
        "\n",
        "$\n",
        "P(A|B) = P(A)\n",
        "$\n",
        "\n",
        "#### Ejemplo Práctico en Python: Probabilidad Condicionada con Dados\n",
        "\n",
        "Para ilustrar cómo funciona la probabilidad condicionada, utilizaremos un ejemplo con dados. Queremos calcular la probabilidad de que la suma de dos dados sea 7, dado que sabemos que el primer dado ha mostrado un número par.\n",
        "\n",
        "**Configuración del Problema:**\n",
        "\n",
        "- **Evento A:** La suma de los dos dados es 7.\n",
        "- **Evento B:** El primer dado muestra un número par.\n",
        "\n",
        "Usaremos simulaciones para calcular esta probabilidad condicionada.\n",
        "\n",
        "\n"
      ],
      "metadata": {
        "id": "1xW-YHRCiZLV"
      }
    },
    {
      "cell_type": "code",
      "source": [
        "import numpy as np\n",
        "\n",
        "# Simulación de lanzamientos de dos dados\n",
        "np.random.seed(42)\n",
        "dados = np.random.randint(1, 7, size=(10000, 2))\n",
        "\n",
        "# Definir los eventos A y B\n",
        "evento_A = np.sum(dados, axis=1) == 7  # Suma de los dados es 7\n",
        "evento_B = dados[:, 0] % 2 == 0  # Primer dado es par\n",
        "\n",
        "# Calcular P(A ∩ B)\n",
        "P_A_y_B = np.mean(evento_A & evento_B)\n",
        "\n",
        "# Calcular P(B)\n",
        "P_B = np.mean(evento_B)\n",
        "\n",
        "# Calcular P(A|B)\n",
        "P_A_dado_B = P_A_y_B / P_B\n",
        "\n",
        "print(f\"La probabilidad de que la suma sea 7, dado que el primer dado es par, es {P_A_dado_B:.4f}\")\n"
      ],
      "metadata": {
        "colab": {
          "base_uri": "https://localhost:8080/"
        },
        "id": "DLe6knU4z2AG",
        "outputId": "32291d55-1b6f-4d2f-c838-18e6d2cc9043"
      },
      "execution_count": 8,
      "outputs": [
        {
          "output_type": "stream",
          "name": "stdout",
          "text": [
            "La probabilidad de que la suma sea 7, dado que el primer dado es par, es 0.1528\n"
          ]
        }
      ]
    },
    {
      "cell_type": "code",
      "source": [
        "evento_A"
      ],
      "metadata": {
        "colab": {
          "base_uri": "https://localhost:8080/"
        },
        "id": "xXSNAxGf0UpE",
        "outputId": "ae24e2a9-127c-4b47-f8f1-7e53444ef401"
      },
      "execution_count": 10,
      "outputs": [
        {
          "output_type": "execute_result",
          "data": {
            "text/plain": [
              "array([False, False,  True, ...,  True, False, False])"
            ]
          },
          "metadata": {},
          "execution_count": 10
        }
      ]
    },
    {
      "cell_type": "code",
      "source": [
        "evento_B"
      ],
      "metadata": {
        "colab": {
          "base_uri": "https://localhost:8080/"
        },
        "id": "LTxV08iE0V-X",
        "outputId": "7fa462fe-4d34-4a20-eb37-7b0f539d1ba3"
      },
      "execution_count": 11,
      "outputs": [
        {
          "output_type": "execute_result",
          "data": {
            "text/plain": [
              "array([ True, False, False, ..., False, False, False])"
            ]
          },
          "metadata": {},
          "execution_count": 11
        }
      ]
    },
    {
      "cell_type": "markdown",
      "source": [
        "En este código, calculamos la probabilidad de que la suma de los dos dados sea 7, dado que el primer dado muestra un número par. Este ejemplo ayuda a visualizar cómo la condición impuesta (primer dado par) afecta la probabilidad del resultado (suma 7).\n",
        "\n",
        "#### Comparación con la Probabilidad No Condicionada\n",
        "\n",
        "Para ver el impacto de la condición, podemos comparar la probabilidad condicionada con la probabilidad no condicionada (sin información adicional sobre el primer dado):\n"
      ],
      "metadata": {
        "id": "fZMXd82ez6Gv"
      }
    },
    {
      "cell_type": "code",
      "source": [
        "# Calcular P(A)\n",
        "P_A = np.mean(evento_A)\n",
        "\n",
        "print(f\"La probabilidad de que la suma sea 7 (sin condición) es {P_A:.4f}\")\n"
      ],
      "metadata": {
        "colab": {
          "base_uri": "https://localhost:8080/"
        },
        "id": "4nUT-n35z5BR",
        "outputId": "8b4cd663-4358-4577-9ba7-cf4d606a497f"
      },
      "execution_count": 9,
      "outputs": [
        {
          "output_type": "stream",
          "name": "stdout",
          "text": [
            "La probabilidad de que la suma sea 7 (sin condición) es 0.1602\n"
          ]
        }
      ]
    },
    {
      "cell_type": "markdown",
      "source": [
        "Al comparar ambas probabilidades, observamos cómo la información adicional (condición) cambia nuestra expectativa sobre el resultado.\n",
        "\n",
        "#### Aplicaciones de la Probabilidad Condicionada\n",
        "\n",
        "La probabilidad condicionada tiene muchas aplicaciones en diferentes campos:\n",
        "\n",
        "1. **Medicina:** Calcular la probabilidad de que un paciente tenga una enfermedad dada cierta sintomatología (diagnóstico médico).\n",
        "   \n",
        "2. **Finanzas:** Evaluar el riesgo de un activo financiero dado el comportamiento reciente del mercado.\n",
        "   \n",
        "3. **Inteligencia Artificial:** En sistemas de clasificación y predicción, como en los modelos de Naive Bayes, donde se asume independencia condicional entre variables.\n",
        "\n",
        "4. **Seguros:** Estimar la probabilidad de un accidente automovilístico dado que el conductor tiene un historial de manejo seguro o vive en una zona de alto riesgo.\n",
        "\n"
      ],
      "metadata": {
        "id": "rwJHifCc0HJv"
      }
    },
    {
      "cell_type": "markdown",
      "source": [
        "### Redes Bayesianas: Un Mapa para las Relaciones entre Variables\n",
        "\n",
        "Imagina que eres un detective trabajando en un caso complicado. Tienes varias pistas, posibles sospechosos y evidencias, pero no está claro cómo encajan todas las piezas. Para resolver este enigma, necesitas una forma de organizar la información y entender las conexiones entre todos los elementos. Aquí es donde entran en juego las **Redes Bayesianas**.\n",
        "\n",
        "#### ¿Qué es una Red Bayesiana?\n",
        "\n",
        "Una **Red Bayesiana** es un modelo gráfico que representa relaciones de dependencia y causalidad entre variables. Imagina que es un mapa que te ayuda a ver cómo las diferentes piezas de información están conectadas. Las redes bayesianas están formadas por:\n",
        "\n",
        "- **Nodos:** Estos representan las variables del sistema, que pueden ser eventos, características, o estados. En el caso del detective, los nodos podrían ser \"arma homicida\", \"sospechoso\", \"hora del crimen\", \"coartada\", etc.\n",
        "\n",
        "- **Flechas (arcos dirigidos):** Estas flechas indican una influencia causal entre los nodos. Si una flecha va del nodo A al nodo B, significa que A influye en B. Por ejemplo, la flecha que va desde \"el sospechoso tenía el arma homicida\" a \"el sospechoso cometió el crimen\" muestra que tener el arma aumenta la probabilidad de que el sospechoso sea culpable.\n",
        "\n",
        "#### ¿Cómo Funciona una Red Bayesiana?\n",
        "\n",
        "1. **Estructura gráfica**: La red consiste en nodos que representan variables aleatorias y arcos que representan las dependencias entre ellas. Los nodos pueden ser variables observables o no observables (ocultas).\n",
        "\n",
        "2. **Probabilidades condicionales**: Cada nodo tiene una tabla de probabilidades condicionales que describe la probabilidad de ese nodo dado los valores de sus nodos padres.\n",
        "\n",
        "3. **Inferencia probabilística**: A partir de la estructura de la red y las probabilidades condicionales, se puede realizar inferencia probabilística. Es decir, se pueden calcular las probabilidades de variables de interés dados algunos valores observados.\n",
        "\n",
        "4. **Aprendizaje**: Las redes bayesianas pueden ser construidas de forma manual o aprendidas automáticamente a partir de datos.\n",
        "\n",
        "5. **Aplicaciones**: Se utilizan en una amplia variedad de campos como medicina, finanzas, sistemas expertos, clasificación, detección de anomalías, entre otros.\n",
        "\n",
        "\n",
        "Cada nodo en una red bayesiana tiene una probabilidad asociada. Esta probabilidad puede ser:\n",
        "\n",
        "- **Probabilidad a priori:** Es la probabilidad inicial de un evento antes de obtener nueva información. Por ejemplo, antes de cualquier investigación, puedes pensar que la probabilidad de que el sospechoso sea culpable es baja.\n",
        "\n",
        "- **Probabilidad a posteriori:** Es la probabilidad actualizada después de obtener nueva evidencia. Si descubres que el sospechoso estaba en la escena del crimen, esta nueva información aumenta la probabilidad de que sea culpable.\n",
        "\n",
        "Las flechas en la red bayesiana indican cómo se actualizan las probabilidades entre nodos cuando obtenemos nueva información. Este proceso de actualización se basa en el **Teorema de Bayes**, que nos permite ajustar nuestras creencias a la luz de la nueva evidencia.\n",
        "\n",
        "#### Ejemplo Práctico: Investigando un Crimen\n",
        "\n",
        "Para ver cómo funciona una red bayesiana en acción, volvamos al escenario del detective. Supongamos que en nuestra red tenemos los siguientes nodos:\n",
        "\n",
        "- **Sospechoso en la escena del crimen.**\n",
        "- **Sospechoso tenía el arma homicida.**\n",
        "- **El crimen ocurrió a medianoche.**\n",
        "- **El sospechoso tiene una coartada.**\n",
        "\n",
        "Imagina que inicialmente piensas que es poco probable que el sospechoso sea culpable. Sin embargo, encuentras evidencia de que estaba en la escena del crimen. Esta nueva información aumenta la probabilidad de que sea el culpable. A medida que obtienes más pruebas, como el hecho de que tenía el arma homicida, puedes seguir ajustando tu análisis.\n",
        "\n",
        "El siguiente diagrama muestra cómo se relacionan estos nodos:\n",
        "\n",
        "```plaintext\n",
        "[Sospechoso en la escena] ---> [Sospechoso cometió el crimen] <--- [Sospechoso tenía el arma homicida]\n",
        "                                  ^\n",
        "                                  |\n",
        "                      [El crimen ocurrió a medianoche]\n",
        "```\n",
        "\n",
        "Las flechas muestran la influencia causal entre los diferentes elementos, y la red nos ayuda a visualizar cómo una variable afecta a otra.\n",
        "\n",
        "#### ¿Para Qué Sirven las Redes Bayesianas?\n",
        "\n",
        "Las redes bayesianas son extremadamente útiles en una amplia gama de aplicaciones:\n",
        "\n",
        "- **Medicina:** Ayudan a diagnosticar enfermedades, predecir la efectividad de tratamientos y determinar factores de riesgo. Por ejemplo, un médico puede usar una red bayesiana para evaluar la probabilidad de una enfermedad basándose en síntomas y antecedentes médicos.\n",
        "\n",
        "- **Inteligencia Artificial:** Son esenciales para construir sistemas que aprenden de los datos, toman decisiones y realizan predicciones. Un sistema de recomendación, como los que usan plataformas de streaming, puede utilizar redes bayesianas para predecir las preferencias del usuario.\n",
        "\n",
        "- **Finanzas:** En el ámbito financiero, se utilizan para evaluar riesgos, predecir el comportamiento del mercado y detectar fraudes. Una red bayesiana podría, por ejemplo, estimar la probabilidad de un colapso del mercado en función de diferentes indicadores económicos.\n",
        "\n",
        "- **Ingeniería:** Se emplean para diagnosticar fallos, optimizar procesos y controlar sistemas. En la ingeniería de software, una red bayesiana podría identificar la causa de un fallo en un sistema complejo.\n",
        "\n",
        "#### Ventajas de las Redes Bayesianas\n",
        "\n",
        "Las redes bayesianas ofrecen varias ventajas que las hacen ideales para analizar sistemas complejos:\n",
        "\n",
        "- **Visualización:** Ayudan a entender mejor las relaciones entre variables, permitiendo que veas cómo un cambio en una variable afecta a las demás.\n",
        "\n",
        "- **Razonamiento Probabilístico:** Facilitan el modelado de la incertidumbre y permiten actualizar las creencias a medida que se obtiene nueva información, lo que es crucial en situaciones donde los datos son incompletos o inciertos.\n",
        "\n",
        "- **Toma de Decisiones:** Permiten tomar decisiones más informadas al evaluar el impacto de diferentes factores y escenarios, ayudando a encontrar la mejor solución en situaciones complejas.\n",
        "\n",
        "#### Ejemplo Práctico en Python: Implementación de una Red Bayesiana\n",
        "\n",
        "Ahora, veamos cómo podemos implementar una red bayesiana en Python utilizando la librería `pgmpy`.\n",
        "\n",
        "\n"
      ],
      "metadata": {
        "id": "TaF5aTIz2gad"
      }
    },
    {
      "cell_type": "code",
      "source": [
        "!pip install pgmpy"
      ],
      "metadata": {
        "id": "u89IQsJW2-NS"
      },
      "execution_count": null,
      "outputs": []
    },
    {
      "cell_type": "code",
      "source": [
        "from pgmpy.models import BayesianNetwork\n",
        "from pgmpy.factors.discrete import TabularCPD\n",
        "from pgmpy.inference import VariableElimination\n",
        "\n",
        "# Definir la estructura de la red bayesiana\n",
        "# Aquí estamos definiendo las relaciones causales entre las variables.\n",
        "# 'Sospechoso en la escena' influye en 'Sospechoso cometió el crimen'.\n",
        "# 'Sospechoso tenía el arma homicida' también influye en 'Sospechoso cometió el crimen'.\n",
        "# 'El crimen ocurrió a medianoche' tiene una relación con 'Sospechoso cometió el crimen'.\n",
        "# Estas relaciones se representan mediante flechas en la red.\n",
        "model = BayesianNetwork([\n",
        "    ('Sospechoso en la escena', 'Sospechoso cometió el crimen'),\n",
        "    ('Sospechoso tenía el arma homicida', 'Sospechoso cometió el crimen'),\n",
        "    ('El crimen ocurrió a medianoche', 'Sospechoso cometió el crimen')\n",
        "])\n",
        "\n",
        "# Definir las probabilidades condicionales para cada nodo\n",
        "# En este caso, estamos definiendo la probabilidad de que el sospechoso esté en la escena.\n",
        "# cpd_sospechoso_escena representa esta probabilidad:\n",
        "# - 80% de probabilidad de estar en la escena (0.8) y 20% de no estar (0.2).\n",
        "# En otros ejemplos, este parámetro podría ajustarse en función de datos observados o estimaciones.\n",
        "cpd_sospechoso_escena = TabularCPD(variable='Sospechoso en la escena', variable_card=2, values=[[0.8], [0.2]])\n",
        "\n",
        "# Definir la probabilidad de que el sospechoso tenga el arma homicida\n",
        "# Aquí, asumimos que hay un 90% de probabilidad de que el sospechoso tuviera el arma homicida y un 10% de que no.\n",
        "# Al igual que antes, estos valores pueden ajustarse en función de la evidencia o datos.\n",
        "cpd_arma_homicida = TabularCPD(variable='Sospechoso tenía el arma homicida', variable_card=2, values=[[0.9], [0.1]])\n",
        "\n",
        "# Definir la probabilidad de que el crimen ocurriera a medianoche\n",
        "# Se establece que hay un 70% de probabilidad de que el crimen ocurriera a medianoche y un 30% de que no.\n",
        "# Estos valores pueden cambiar según el contexto o la evidencia disponible.\n",
        "cpd_crimen_medianoche = TabularCPD(variable='El crimen ocurrió a medianoche', variable_card=2, values=[[0.7], [0.3]])\n",
        "\n",
        "# Definir la probabilidad condicional del crimen basado en todas las evidencias\n",
        "# Esta es la probabilidad de que el sospechoso cometiera el crimen dada la combinación de todas las variables anteriores.\n",
        "# Aquí, tenemos un conjunto de probabilidades basadas en diferentes combinaciones de variables. Por ejemplo:\n",
        "# - Si el sospechoso estuvo en la escena, tenía el arma homicida, y el crimen ocurrió a medianoche,\n",
        "#   la probabilidad de que cometió el crimen es 95% (0.95).\n",
        "# - Si ninguna de estas condiciones se cumple, la probabilidad es solo del 1% (0.01).\n",
        "# Estos valores se pueden ajustar de manera similar a partir de datos o suposiciones previas.\n",
        "cpd_crimen = TabularCPD(variable='Sospechoso cometió el crimen', variable_card=2,\n",
        "                        values=[[0.95, 0.85, 0.8, 0.4, 0.3, 0.1, 0.05, 0.01],\n",
        "                                [0.05, 0.15, 0.2, 0.6, 0.7, 0.9, 0.95, 0.99]],\n",
        "                        evidence=['Sospechoso en la escena', 'Sospechoso tenía el arma homicida', 'El crimen ocurrió a medianoche'],\n",
        "                        evidence_card=[2, 2, 2])\n",
        "\n",
        "# Añadir las probabilidades condicionales (CPDs) al modelo\n",
        "# Cada uno de los CPDs definidos anteriormente se agrega al modelo para construir la red completa.\n",
        "model.add_cpds(cpd_sospechoso_escena, cpd_arma_homicida, cpd_crimen_medianoche, cpd_crimen)\n",
        "\n",
        "# Validar el modelo\n",
        "# Esta línea asegura que el modelo esté correctamente definido y que todas las probabilidades condicionales estén en su lugar.\n",
        "assert model.check_model()\n",
        "\n",
        "# Realizar inferencia utilizando la eliminación de variables\n",
        "# Aquí utilizamos el método VariableElimination para realizar inferencias sobre nuestro modelo.\n",
        "# Estamos calculando la probabilidad de que el sospechoso cometiera el crimen dado que estuvo en la escena.\n",
        "inference = VariableElimination(model)\n",
        "probabilidad_crimen = inference.query(variables=['Sospechoso cometió el crimen'], evidence={'Sospechoso en la escena': 1})\n",
        "\n",
        "# Imprimir el resultado de la inferencia\n",
        "# El resultado mostrará la probabilidad de que el sospechoso cometiera el crimen dado que estuvo en la escena.\n",
        "print(probabilidad_crimen)\n"
      ],
      "metadata": {
        "colab": {
          "base_uri": "https://localhost:8080/"
        },
        "id": "dUABuOPV0GZc",
        "outputId": "0f674b0f-2a58-45a2-e4a5-b9fbe7f1641f"
      },
      "execution_count": 16,
      "outputs": [
        {
          "output_type": "stream",
          "name": "stdout",
          "text": [
            "+---------------------------------+-------------------------------------+\n",
            "| Sospechoso cometió el crimen    |   phi(Sospechoso cometió el crimen) |\n",
            "+=================================+=====================================+\n",
            "| Sospechoso cometió el crimen(0) |                              0.2198 |\n",
            "+---------------------------------+-------------------------------------+\n",
            "| Sospechoso cometió el crimen(1) |                              0.7802 |\n",
            "+---------------------------------+-------------------------------------+\n"
          ]
        }
      ]
    },
    {
      "cell_type": "markdown",
      "source": [
        "Para comprender cómo se construyó la tabla de probabilidad condicional para `cpd_crimen`, es importante entender cómo funcionan las redes bayesianas y cómo se definen las probabilidades condicionales en función de diferentes combinaciones de eventos.\n",
        "\n",
        "### Contexto\n",
        "\n",
        "En una red bayesiana, cuando una variable depende de otras variables, definimos la **probabilidad condicional** de esa variable en función de todas las combinaciones posibles de los eventos de los que depende. En este caso, la probabilidad de que el \"Sospechoso cometió el crimen\" depende de tres eventos:\n",
        "\n",
        "1. **Sospechoso en la escena** (Sí/No)\n",
        "2. **Sospechoso tenía el arma homicida** (Sí/No)\n",
        "3. **El crimen ocurrió a medianoche** (Sí/No)\n",
        "\n",
        "Cada una de estas variables tiene dos posibles valores (Sí o No), lo que da lugar a un total de $ 2 \\times 2 \\times 2 = 8 $ combinaciones posibles de eventos.\n",
        "\n",
        "### Desglose de la Tabla\n",
        "\n",
        "El parámetro `values` en `cpd_crimen` contiene las probabilidades condicionales para cada una de estas combinaciones. Aquí está el desglose de las combinaciones y cómo se interpretan los valores:\n",
        "\n",
        "- **Combinación 1:** Sospechoso en la escena = Sí, Tenía el arma = Sí, Crimen a medianoche = Sí.\n",
        "  - Probabilidad de que cometió el crimen = 0.95 (alto)\n",
        "  - Probabilidad de que NO cometió el crimen = 0.05\n",
        "\n",
        "- **Combinación 2:** Sospechoso en la escena = Sí, Tenía el arma = Sí, Crimen a medianoche = No.\n",
        "  - Probabilidad de que cometió el crimen = 0.85\n",
        "  - Probabilidad de que NO cometió el crimen = 0.15\n",
        "\n",
        "- **Combinación 3:** Sospechoso en la escena = Sí, Tenía el arma = No, Crimen a medianoche = Sí.\n",
        "  - Probabilidad de que cometió el crimen = 0.80\n",
        "  - Probabilidad de que NO cometió el crimen = 0.20\n",
        "\n",
        "- **Combinación 4:** Sospechoso en la escena = Sí, Tenía el arma = No, Crimen a medianoche = No.\n",
        "  - Probabilidad de que cometió el crimen = 0.40\n",
        "  - Probabilidad de que NO cometió el crimen = 0.60\n",
        "\n",
        "- **Combinación 5:** Sospechoso en la escena = No, Tenía el arma = Sí, Crimen a medianoche = Sí.\n",
        "  - Probabilidad de que cometió el crimen = 0.30\n",
        "  - Probabilidad de que NO cometió el crimen = 0.70\n",
        "\n",
        "- **Combinación 6:** Sospechoso en la escena = No, Tenía el arma = Sí, Crimen a medianoche = No.\n",
        "  - Probabilidad de que cometió el crimen = 0.10\n",
        "  - Probabilidad de que NO cometió el crimen = 0.90\n",
        "\n",
        "- **Combinación 7:** Sospechoso en la escena = No, Tenía el arma = No, Crimen a medianoche = Sí.\n",
        "  - Probabilidad de que cometió el crimen = 0.05\n",
        "  - Probabilidad de que NO cometió el crimen = 0.95\n",
        "\n",
        "- **Combinación 8:** Sospechoso en la escena = No, Tenía el arma = No, Crimen a medianoche = No.\n",
        "  - Probabilidad de que cometió el crimen = 0.01 (muy baja)\n",
        "  - Probabilidad de que NO cometió el crimen = 0.99\n",
        "\n",
        "### Interpretación de la Tabla\n",
        "\n",
        "El parámetro `values` se estructura en dos filas:\n",
        "\n",
        "- La **primera fila** contiene las probabilidades de que el sospechoso **cometió el crimen** para cada una de las combinaciones de eventos.\n",
        "- La **segunda fila** contiene las probabilidades de que el sospechoso **NO cometió el crimen** para esas mismas combinaciones.\n",
        "\n",
        "El orden de las combinaciones sigue la secuencia de estados binarios de las tres variables de evidencia. Es decir, se combinan todas las posibilidades de estas variables en un orden determinado:\n",
        "\n",
        "1. [1, 1, 1]\n",
        "2. [1, 1, 0]\n",
        "3. [1, 0, 1]\n",
        "4. [1, 0, 0]\n",
        "5. [0, 1, 1]\n",
        "6. [0, 1, 0]\n",
        "7. [0, 0, 1]\n",
        "8. [0, 0, 0]\n",
        "\n",
        "Donde `1` significa \"Sí\" y `0` significa \"No\".\n",
        "\n",
        "### Cómo Construir Esta Tabla en Otros Ejemplos\n",
        "\n",
        "Para construir una tabla similar en otros ejemplos, debes:\n",
        "\n",
        "1. **Identificar las variables de las que depende el evento principal.** En este caso, el evento principal es \"Sospechoso cometió el crimen\", y depende de tres variables (Sospechoso en la escena, Sospechoso tenía el arma homicida, y El crimen ocurrió a medianoche).\n",
        "\n",
        "2. **Determinar todas las combinaciones posibles de estos eventos.** Si cada variable tiene dos estados posibles (Sí/No), el número total de combinaciones será $2^n$, donde $n$ es el número de variables de las que depende.\n",
        "\n",
        "3. **Asignar probabilidades condicionales para cada combinación.** Basándote en datos, suposiciones o conocimientos previos, asigna probabilidades para cada combinación de eventos.\n",
        "\n",
        "4. **Verificar que las probabilidades para cada combinación sumen 1.** Esto asegura que la tabla esté correctamente normalizada.\n",
        "\n",
        "### Ejemplo en Otro Contexto\n",
        "\n",
        "Imaginemos que estás modelando la probabilidad de que un estudiante apruebe un examen basado en dos factores: si estudió y si durmió bien la noche anterior. Tendrías 4 combinaciones posibles:\n",
        "\n",
        "1. Estudió y durmió bien.\n",
        "2. Estudió pero no durmió bien.\n",
        "3. No estudió pero durmió bien.\n",
        "4. No estudió y no durmió bien.\n",
        "\n",
        "Asignarías probabilidades para aprobar o no aprobar en cada uno de estos casos, y construirías la tabla de la misma manera.\n",
        "\n",
        "Espero que esta explicación aclare cómo se construyó la tabla y cómo podrías hacerlo en otros ejemplos."
      ],
      "metadata": {
        "id": "mEghkTX36goh"
      }
    },
    {
      "cell_type": "markdown",
      "source": [
        "\n",
        "Este código construye una red bayesiana con tres nodos y establece las probabilidades condicionales. Luego, realiza una inferencia para calcular la probabilidad de que el sospechoso haya cometido el crimen dado que estaba en la escena.\n",
        "\n",
        "\n",
        "Las redes bayesianas son una herramienta poderosa para analizar y modelar sistemas donde múltiples variables interactúan entre sí. Actúan como un mapa que nos guía a través de la complejidad, permitiendo visualizar las relaciones causales, modelar la incertidumbre y tomar decisiones más informadas."
      ],
      "metadata": {
        "id": "YL0lncMA2r9R"
      }
    },
    {
      "cell_type": "code",
      "source": [],
      "metadata": {
        "id": "s0Vfv2p722YA"
      },
      "execution_count": null,
      "outputs": []
    }
  ]
}