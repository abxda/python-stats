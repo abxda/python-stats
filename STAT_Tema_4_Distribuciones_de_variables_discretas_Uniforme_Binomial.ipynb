{
  "nbformat": 4,
  "nbformat_minor": 0,
  "metadata": {
    "colab": {
      "provenance": [],
      "authorship_tag": "ABX9TyNXI2kLu979MoBstpBriVt/",
      "include_colab_link": true
    },
    "kernelspec": {
      "name": "python3",
      "display_name": "Python 3"
    },
    "language_info": {
      "name": "python"
    }
  },
  "cells": [
    {
      "cell_type": "markdown",
      "metadata": {
        "id": "view-in-github",
        "colab_type": "text"
      },
      "source": [
        "<a href=\"https://colab.research.google.com/github/abxda/python-stats/blob/main/STAT_Tema_4_Distribuciones_de_variables_discretas_Uniforme_Binomial.ipynb\" target=\"_parent\"><img src=\"https://colab.research.google.com/assets/colab-badge.svg\" alt=\"Open In Colab\"/></a>"
      ]
    },
    {
      "cell_type": "markdown",
      "source": [
        "# Diferenciando Sucesos y Variables Aleatorias\n",
        "\n",
        "Es importante no confundir un suceso con el valor que toma una variable aleatoria. Para ilustrar esto, utilizaremos el ejemplo del lanzamiento de un dado perfecto.\n",
        "\n",
        "## Sucesos en el Lanzamiento de un Dado\n",
        "\n",
        "Cuando se lanza un dado perfecto, hay 6 posibles sucesos: que salga la cara identificada con el 1, la del 2, la del 3, la del 4, la del 5, o la del 6. Estos son los sucesos que pueden ocurrir cada vez que se lanza el dado.\n",
        "\n",
        "## Variables Aleatorias y Sus Valores\n",
        "\n",
        "El investigador es quien decide cuál es la variable aleatoria asociada a estos sucesos, no el dado. Por ejemplo, el investigador puede definir la variable aleatoria $X$ como el valor que aparece en la cara superior del dado después de un lanzamiento. En este caso, los valores posibles que $X$ puede tomar son 1, 2, 3, 4, 5 y 6.\n",
        "\n",
        "### Ejemplo 1: Variable Aleatoria que Coincide con los Sucesos\n",
        "\n",
        "Si $X$ es el valor de la cara del dado, entonces:\n",
        "\n",
        "$\n",
        "X = \\{1, 2, 3, 4, 5, 6\\}\n",
        "$\n",
        "\n",
        "### Ejemplo 2: Variable Aleatoria con Valores Redefinidos\n",
        "\n",
        "El investigador puede redefinir los valores de la variable aleatoria $X$ según el objetivo del estudio. Por ejemplo, puede definir $X$ de la siguiente manera:\n",
        "\n",
        "$\n",
        "X =\n",
        "\\begin{cases}\n",
        "0 & \\text{si el dado muestra } 1, 2, 4, 5 \\text{ o } 6 \\\\\n",
        "1 & \\text{si el dado muestra } 3\n",
        "\\end{cases}\n",
        "$\n",
        "\n",
        "En este caso, el investigador está interesado únicamente en el suceso de obtener un 3 en el dado, y todos los demás resultados se consideran equivalentes y se asignan el valor 0.\n",
        "\n",
        "### Probabilidad Asociada\n",
        "\n",
        "La probabilidad de que $X$ tome el valor 0 es la probabilidad de que el dado muestre 1, 2, 4, 5 o 6, es decir, $ \\frac{5}{6} $. La probabilidad de que $X$ tome el valor 1 es la probabilidad de que el dado muestre un 3, es decir, $ \\frac{1}{6} $.\n",
        "\n",
        "$\n",
        "P(X = 0) = \\frac{5}{6}, \\quad P(X = 1) = \\frac{1}{6}\n",
        "$\n",
        "\n",
        "En este caso, la variable aleatoria $X$ sigue una distribución binomial con $n = 1$ y $p = \\frac{1}{6}$.\n",
        "\n",
        "### Ejemplo en Python\n",
        "\n",
        "Vamos a implementar este ejemplo en Python para visualizar la distribución de $X$:"
      ],
      "metadata": {
        "id": "nU3zd7Za9Wt6"
      }
    },
    {
      "cell_type": "code",
      "source": [
        "import numpy as np\n",
        "import matplotlib.pyplot as plt\n",
        "from scipy.stats import bernoulli\n",
        "# Parámetros de la distribución\n",
        "p = 1/6  # Probabilidad de obtener un 3\n",
        "\n",
        "# Crear una variable aleatoria binomial (Bernoulli) con p = 1/6\n",
        "X = bernoulli(p)\n",
        "\n",
        "# Generar muestras\n",
        "muestras = X.rvs(size=10000)\n",
        "\n",
        "# Contar las ocurrencias de 0 y 1\n",
        "conteo = np.bincount(muestras)\n",
        "\n",
        "# Calcular las probabilidades observadas\n",
        "prob_observadas = conteo / len(muestras)\n",
        "\n",
        "# Graficar la distribución\n",
        "valores = [0, 1]\n",
        "plt.bar(valores, prob_observadas, color=['blue', 'orange'])\n",
        "plt.xticks(valores, ['0', '1'])\n",
        "plt.xlabel('Valores de la Variable Aleatoria X')\n",
        "plt.ylabel('Probabilidad')\n",
        "plt.title('Distribución de la Variable Aleatoria X')\n",
        "plt.show()\n",
        "# Imprimir las probabilidades observadas\n",
        "print(f\"Probabilidad observada de X=0: {prob_observadas[0]:.3f}\")\n",
        "print(f\"Probabilidad observada de X=1: {prob_observadas[1]:.3f}\")"
      ],
      "metadata": {
        "id": "UHpv2YSO-TkF"
      },
      "execution_count": null,
      "outputs": []
    },
    {
      "cell_type": "code",
      "source": [],
      "metadata": {
        "id": "GJKZv1JGNp-c"
      },
      "execution_count": null,
      "outputs": []
    },
    {
      "cell_type": "markdown",
      "source": [
        "### Explicación del Código\n",
        "\n",
        "1. **Definición de la probabilidad**: Definimos $p = \\frac{1}{6}$ como la probabilidad de obtener un 3 al lanzar el dado.\n",
        "2. **Creación de la variable aleatoria**: Utilizamos `bernoulli(p)` para crear una variable aleatoria de Bernoulli con la probabilidad $p$.\n",
        "3. **Generación de muestras**: Generamos 10,000 muestras de la variable aleatoria.\n",
        "4. **Conteo de ocurrencias**: Contamos cuántas veces se obtiene cada valor (0 y 1).\n",
        "5. **Cálculo de probabilidades observadas**: Calculamos las probabilidades observadas dividiendo el conteo de cada valor entre el número total de muestras.\n",
        "6. **Gráfico de la distribución**: Graficamos las probabilidades observadas utilizando un diagrama de barras.\n",
        "\n",
        "Este ejemplo ilustra cómo redefinir una variable aleatoria en función de los intereses del investigador y cómo implementar y visualizar esta redefinición utilizando Python."
      ],
      "metadata": {
        "id": "pMV81fWQ-UQD"
      }
    },
    {
      "cell_type": "markdown",
      "source": [
        "# Tema 4: Distribuciones de Variables Discretas\n",
        "\n",
        "En el tema 3 se han tratado las funciones de probabilidad, las de densidad de probabilidad, las de distribución, y los requisitos que deben cumplir para ser consideradas como tales. Estas funciones son leyes matemáticas que hacen corresponder a los valores que puede tomar una variable aleatoria, un valor, un número. Ese número es la probabilidad de que la variable aleatoria tome ese valor en particular. O, si la variable es continua (no es numerable), asigna a un intervalo la probabilidad de que la variable aleatoria tome un valor dentro de ese intervalo.\n",
        "\n",
        "Los temas siguientes tratan sobre las distribuciones más comunes en el campo de la ingeniería de organización. Es decir, las funciones que se usan con más asiduidad en este campo. En este tema se tratan dos de ellas: la distribución uniforme (para variables discretas y continuas) y la distribución binomial.\n",
        "\n",
        "## 4.2 Distribución Uniforme\n",
        "\n",
        "Una distribución se denomina uniforme cuando hace corresponder a cada valor de la variable aleatoria exactamente el mismo valor a la función. En este caso, la función de distribución se denota como $U$, haciendo constar que se trata de una distribución uniforme. Cuando la variable aleatoria es continua, la letra $U$ irá acompañada de dos valores denominados de forma genérica $a$ y $b$, es decir, el formato será $U(a, b)$. Estos dos números definen el intervalo de la distribución. Por ejemplo, $U(3, 5)$ es la distribución uniforme definida en el intervalo $[3, 5]$.\n",
        "\n",
        "### Distribución Uniforme de Variables Discretas\n",
        "\n",
        "La distribución uniforme de variable discreta se caracteriza por el número, $n$, de posibles valores, $x_i$, que puede tomar la variable aleatoria $X = \\text{resultado de tirar un dado}$. Al ser todos ellos equiprobables, la probabilidad de cada uno será:\n",
        "\n",
        "$\n",
        "P(x_i) = \\frac{1}{n}\n",
        "$\n",
        "\n",
        "La función de distribución será:\n",
        "\n",
        "$\n",
        "P(X \\leq x_k) =\n",
        "\\begin{cases}\n",
        "0 & x < x_1 \\\\\n",
        "\\frac{k}{n} & x_k \\leq x < x_{k+1} \\\\\n",
        "1 & x_n \\leq x\n",
        "\\end{cases}\n",
        "$\n",
        "\n",
        "En efecto, al tirar un dado la función de distribución toma los valores:\n",
        "\n",
        "$\n",
        "\\begin{aligned}\n",
        "F(x \\leq 1) &= \\frac{1}{6} \\\\\n",
        "F(x \\leq 2) &= \\frac{2}{6} \\\\\n",
        "F(x \\leq 3) &= \\frac{3}{6} \\\\\n",
        "F(x \\leq 4) &= \\frac{4}{6} \\\\\n",
        "F(x \\leq 5) &= \\frac{5}{6} \\\\\n",
        "F(x \\leq 6) &= 1\n",
        "\\end{aligned}\n",
        "$\n",
        "\n",
        "A partir de ahora se va a denotar la media, además de la forma $\\bar{x}$ ya conocida, como $\\mu$. La letra griega $\\mu$ (mi o mu) representará la media estadística. Debe notarse que $\\bar{x}$ es un valor que se ha producido, que ha ocurrido. En cambio, $\\mu$ es un valor esperado, se espera que ese sea el valor medio si tomamos muchos valores de la variable.\n",
        "\n",
        "En la distribución uniforme para una variable discreta:\n",
        "\n",
        "$\n",
        "\\mu = \\frac{1}{n} \\sum_{i=1}^{n} x_i\n",
        "$\n",
        "\n",
        "Para el ejemplo del dado:\n",
        "\n",
        "$\n",
        "\\mu = \\frac{1}{6} \\left( 1 + 2 + 3 + 4 + 5 + 6 \\right) = 3.5\n",
        "$\n",
        "\n",
        "La varianza será:\n",
        "\n",
        "$\n",
        "\\sigma^2 = \\frac{1}{n} \\sum_{i=1}^{n} (x_i - \\mu)^2\n",
        "$\n",
        "\n",
        "Para el ejemplo del dado será:\n",
        "\n",
        "$\n",
        "\\sigma^2 = \\frac{1}{6} \\left( (1 - 3.5)^2 + (2 - 3.5)^2 + (3 - 3.5)^2 + (4 - 3.5)^2 + (5 - 3.5)^2 + (6 - 3.5)^2 \\right) = 2.917\n",
        "$\n",
        "\n",
        "### Ejemplo en Python para Distribución Uniforme Discreta\n"
      ],
      "metadata": {
        "id": "Jvndy87hO7YN"
      }
    },
    {
      "cell_type": "code",
      "source": [
        "import numpy as np\n",
        "import matplotlib.pyplot as plt\n",
        "\n",
        "# Parámetros de la distribución\n",
        "n = 6\n",
        "valores = np.arange(1, n+1)\n",
        "probabilidad = 1/n\n",
        "\n",
        "# Media y varianza\n",
        "media = np.mean(valores)\n",
        "varianza = np.var(valores)\n",
        "\n",
        "print(f\"Media: {media}\")\n",
        "print(f\"Varianza: {varianza}\")\n",
        "\n",
        "# Dibujar las barras verticales y los puntos\n",
        "plt.vlines(valores, 0, probabilidad, color='red', linestyles='dashed', linewidth=2)\n",
        "plt.scatter(valores, [probabilidad]*n, color='red', zorder=5)\n",
        "\n",
        "# Etiquetas y límites\n",
        "plt.xlabel('x')\n",
        "plt.ylabel('P(x)')\n",
        "plt.title('Distribución Uniforme Discreta')\n",
        "plt.xticks(np.arange(1, n+2, 1))\n",
        "plt.yticks([0, probabilidad], [0, '1/n'])\n",
        "plt.grid(True)\n",
        "plt.ylim(0, 1.2*probabilidad)\n",
        "plt.xlim(0, n+1)\n",
        "\n",
        "# Agregar etiquetas a y b\n",
        "plt.annotate('a', xy=(1, 0), xytext=(1, -0.05), ha='center')\n",
        "plt.annotate('b', xy=(n, 0), xytext=(n, -0.05), ha='center')\n",
        "\n",
        "# Mostrar la gráfica\n",
        "plt.show()\n"
      ],
      "metadata": {
        "id": "g61mfc3seOjB"
      },
      "execution_count": null,
      "outputs": []
    },
    {
      "cell_type": "markdown",
      "source": [
        "###  ¿Qué hace este código?\n",
        "\n",
        "* **Importa las bibliotecas necesarias:** `numpy` para cálculos numéricos y `matplotlib.pyplot` para crear la gráfica.\n",
        "* **Define los parámetros de la distribución:**  Establece el número de valores posibles (`n`) y calcula la probabilidad (`probabilidad`) de cada valor, que es constante en una distribución uniforme.\n",
        "* **Calcula la media y la varianza:**  Utiliza funciones de `numpy` para determinar la media y la varianza de la distribución, mostrando los resultados en la consola.\n",
        "* **Crea la gráfica:**\n",
        "    * Dibuja líneas verticales discontinuas para representar la probabilidad de cada valor.\n",
        "    * Añade puntos rojos en la parte superior de cada línea para resaltar la probabilidad.\n",
        "    * Configura etiquetas para los ejes, un título para la gráfica, marcas en los ejes y una cuadrícula.\n",
        "    * Ajusta los límites de los ejes para una mejor visualización.\n",
        "    * Etiqueta los límites inferior (`a`) y superior (`b`) de la distribución en el eje x.\n",
        "* **Muestra la gráfica:** Presenta la gráfica generada en una ventana.\n",
        "\n",
        "Este código visualiza una distribución uniforme discreta, donde cada valor tiene la misma probabilidad de ocurrir, representada por líneas verticales de igual altura. La gráfica ilustra claramente la naturaleza equitativa de esta distribución.\n"
      ],
      "metadata": {
        "id": "cTfnSMxifu1L"
      }
    },
    {
      "cell_type": "code",
      "source": [
        "import numpy as np\n",
        "import matplotlib.pyplot as plt\n",
        "\n",
        "# Parámetros de la distribución\n",
        "n = 6\n",
        "valores = np.arange(1, n+1)\n",
        "probabilidad = 1/n\n",
        "\n",
        "# Media y varianza\n",
        "media = np.mean(valores)\n",
        "varianza = np.var(valores)\n",
        "\n",
        "print(f\"Media: {media}\")\n",
        "print(f\"Varianza: {varianza}\")\n",
        "\n",
        "# Función de distribución acumulada\n",
        "def distribucion_uniforme(x, n):\n",
        "    if x < 1:\n",
        "        return 0\n",
        "    elif x > n:\n",
        "        return 1\n",
        "    else:\n",
        "        return (x)/n\n",
        "\n",
        "# Valores de x para los puntos de la función de distribución acumulada\n",
        "x_vals = np.arange(1, n+1)\n",
        "y_vals = [distribucion_uniforme(x, n) for x in x_vals]\n",
        "y_vals_0 = y_vals.copy()\n",
        "y_vals_0.pop()\n",
        "y_vals_0.insert(0,0)\n",
        "\n",
        "# Dibujar el segmento adicional entre 0 y 1\n",
        "plt.hlines(y=0, xmin=0, xmax=1, color='red', linewidth=2)\n",
        "\n",
        "# Dibujar los segmentos separados\n",
        "for i in range(len(x_vals)):\n",
        "    plt.hlines(y=y_vals[i], xmin=x_vals[i], xmax=x_vals[i]+1, color='red', linewidth=2)\n",
        "\n",
        "# Dibujar los puntos abiertos y cerrados\n",
        "plt.scatter(x_vals, y_vals_0, edgecolor='red', facecolor='white', zorder=5)\n",
        "plt.scatter(x_vals, y_vals, edgecolor='red', facecolor='red', zorder=5)\n",
        "\n",
        "# Etiquetas y límites\n",
        "plt.xlabel('x')\n",
        "plt.ylabel('F(x)')\n",
        "plt.title('Función de Distribución Acumulada Uniforme Discreta')\n",
        "plt.xticks(np.arange(0, 8, 1))\n",
        "plt.yticks([0, 1/n, 2/n, 3/n, 4/n, 5/n, 1], [0, '1/n', '2/n', '3/n', '4/n', '5/n', '1'])\n",
        "plt.grid(True)\n",
        "plt.ylim(-0.1, 1.1)\n",
        "plt.xlim(0, 7)\n",
        "\n",
        "# Agregar etiquetas a y b\n",
        "plt.annotate('a', xy=(1, 0), xytext=(1, -.35), ha='center')\n",
        "plt.annotate('b', xy=(n, 0), xytext=(n, -.35), ha='center')\n",
        "\n",
        "\n",
        "plt.show()"
      ],
      "metadata": {
        "id": "h-_7UR2CTYUQ"
      },
      "execution_count": null,
      "outputs": []
    },
    {
      "cell_type": "markdown",
      "source": [
        "### ¿Qué hace este código?\n",
        "\n",
        "* **Importa bibliotecas:** Usa `numpy` para trabajar con arreglos y `matplotlib.pyplot` para la visualización.\n",
        "* **Define parámetros:** Establece el número de valores (`n`), crea un arreglo con los valores (`valores`) y calcula la probabilidad de cada uno (`probabilidad`).\n",
        "* **Calcula media y varianza:**  Obtiene la media y la varianza de la distribución y las muestra en la consola.\n",
        "* **Define la función de distribución acumulada:**  Crea una función `distribucion_uniforme` que calcula la probabilidad acumulada para un valor dado.\n",
        "* **Calcula valores para la gráfica:** Genera valores de `x` y sus correspondientes probabilidades acumuladas (`y_vals`) usando la función `distribucion_uniforme`. Crea una copia modificada (`y_vals_0`) para la visualización.\n",
        "* **Dibuja la gráfica:**\n",
        "    * Traza un segmento horizontal adicional para representar la probabilidad acumulada antes del primer valor.\n",
        "    * Dibuja segmentos horizontales separados para cada valor, representando la probabilidad acumulada hasta ese punto.\n",
        "    * Agrega puntos abiertos (círculos vacíos) y cerrados (círculos llenos) para indicar los límites de cada segmento.\n",
        "    * Configura etiquetas para los ejes, un título, marcas en los ejes y una cuadrícula.\n",
        "    * Ajusta los límites de los ejes para una mejor visualización.\n",
        "    * Etiqueta los límites inferior (`a`) y superior (`b`) de la distribución en el eje x.\n",
        "* **Muestra la gráfica:** Presenta la gráfica que representa la función de distribución acumulada uniforme discreta.\n",
        "\n",
        "Este código genera una gráfica que muestra cómo se acumula la probabilidad en una distribución uniforme discreta. La gráfica representa una escalera ascendente, donde cada escalón indica la probabilidad acumulada hasta un valor específico.\n"
      ],
      "metadata": {
        "id": "GSKdp3ucin06"
      }
    },
    {
      "cell_type": "markdown",
      "source": [
        "## Distribución Uniforme de Variables Continuas\n",
        "\n",
        "En esta distribución, la probabilidad para todos los infinitos valores que puede tomar la variable aleatoria dentro del intervalo $[a, b]$ es la misma, es decir, es una constante. Para que sea una **función de densidad**, su integral en el intervalo $[a, b]$ debe ser igual a 1. Por lo tanto:\n",
        "\n",
        "$\n",
        "\\int_{a}^{b} K \\, dx = K(b - a) = 1 \\implies K = \\frac{1}{b-a} \\implies f(x) = \\frac{1}{b-a} \\text{ para } x \\in [a, b], \\ f(x) = 0 \\text{ en otro caso}.\n",
        "$\n",
        "\n",
        "La **función de distribución** será:\n",
        "\n",
        "$\n",
        "F(x \\leq x^*) = \\int_{a}^{x^*} \\frac{1}{b-a} \\, dx \\implies F(x \\leq x^*) = \\frac{x^* - a}{b-a} \\text{ para } a \\leq x^* \\leq b\n",
        "$\n",
        "\n",
        "$\n",
        "\\begin{cases}\n",
        "0 & x^* < a \\\\\n",
        "\\frac{x^* - a}{b - a} & a \\leq x^* \\leq b \\\\\n",
        "1 & x^* > b\n",
        "\\end{cases}\n",
        "$\n",
        "\n",
        "La media será $a + \\frac{b - a}{2}$, por tanto, la media será:\n",
        "\n",
        "$\n",
        "\\mu = \\frac{a + b}{2}\n",
        "$\n",
        "\n",
        "La varianza será:\n",
        "\n",
        "$\n",
        "\\sigma^2 = \\frac{(b - a)^2}{12}\n",
        "$\n",
        "\n",
        "### Ejemplo 1\n",
        "\n",
        "Se desea calcular la función de densidad, la función de distribución, la media y la varianza de la función uniforme en el intervalo \\([1, 3]\\).\n",
        "\n",
        "La función de densidad en el intervalo \\([1, 3]\\) será:\n",
        "\n",
        "$\n",
        "f(x) = \\frac{1}{2}\n",
        "$\n",
        "\n",
        "Se puede comprobar que:\n",
        "\n",
        "$\n",
        "\\int_{1}^{3} \\frac{1}{2} \\, dx = 1\n",
        "$\n",
        "\n",
        "La función de distribución en el intervalo \\([1, 3]\\) será:\n",
        "\n",
        "$\n",
        "F(x) = \\frac{x - 1}{2}\n",
        "$\n",
        "\n",
        "La media será:\n",
        "\n",
        "$\n",
        "\\mu = 2\n",
        "$\n",
        "\n",
        "Y la varianza:\n",
        "\n",
        "$\n",
        "\\sigma^2 = \\frac{1}{3}\n",
        "$\n",
        "\n",
        "### Ejemplo en Python para Distribución Uniforme Continua\n",
        "\n",
        "Vamos a implementar este ejemplo en Python para visualizar la distribución uniforme continua en el intervalo $[1, 3]$:\n"
      ],
      "metadata": {
        "id": "zJra2UGkjL28"
      }
    },
    {
      "cell_type": "code",
      "source": [
        "import numpy as np\n",
        "import matplotlib.pyplot as plt\n",
        "from scipy.stats import uniform\n",
        "\n",
        "# Parámetros de la distribución\n",
        "a = 1\n",
        "b = 3\n",
        "loc = a\n",
        "scale = b - a\n",
        "\n",
        "# Crear la distribución uniforme\n",
        "dist_uniforme = uniform(loc, scale)\n",
        "\n",
        "# Generar valores de la variable aleatoria\n",
        "x = np.linspace(a - 1, b + 1, 1000)\n",
        "y_densidad = dist_uniforme.pdf(x)\n",
        "y_distribucion = dist_uniforme.cdf(x)\n",
        "\n",
        "# Graficar la función de densidad\n",
        "plt.figure(figsize=(12, 6))\n",
        "\n",
        "plt.subplot(1, 2, 1)\n",
        "plt.plot(x, y_densidad, label='f(x) = 1/2')\n",
        "plt.fill_between(x, y_densidad, where=[(xi >= a and xi <= b) for xi in x], color='skyblue', alpha=0.4)\n",
        "plt.title('FDP - Distribución Uniforme Continua')\n",
        "plt.xlabel('x')\n",
        "plt.ylabel('f(x)')\n",
        "plt.grid(True)\n",
        "plt.legend()\n",
        "\n",
        "# Graficar la función de distribución\n",
        "plt.subplot(1, 2, 2)\n",
        "plt.plot(x, y_distribucion, label='F(x)')\n",
        "plt.title('FDA - Distribución Uniforme Continua')\n",
        "plt.xlabel('x')\n",
        "plt.ylabel('F(x)')\n",
        "plt.grid(True)\n",
        "plt.legend()\n",
        "\n",
        "plt.show()\n",
        "\n",
        "# Calcular media y varianza\n",
        "media = dist_uniforme.mean()\n",
        "varianza = dist_uniforme.var()\n",
        "\n",
        "print(f\"Media: {media}\")\n",
        "print(f\"Varianza: {varianza}\")"
      ],
      "metadata": {
        "id": "TpweigoojMAG"
      },
      "execution_count": null,
      "outputs": []
    },
    {
      "cell_type": "markdown",
      "source": [
        "### Explicación del Código\n",
        "\n",
        "1. **Definición de Parámetros**: Se definen los parámetros \\(a\\) y \\(b\\) para la distribución uniforme continua.\n",
        "2. **Creación de la Distribución**: Usamos `uniform(loc, scale)` de `scipy.stats` para crear la distribución uniforme continua.\n",
        "3. **Generación de Valores**: Generamos valores \\(x\\) dentro y fuera del intervalo \\([a, b]\\) para ilustrar las funciones de densidad y distribución.\n",
        "4. **Función de Densidad**: Se calcula y grafica la función de densidad de la distribución uniforme continua.\n",
        "5. **Función de Distribución**: Se calcula y grafica la función de distribución acumulada de la distribución uniforme continua.\n",
        "6. **Cálculo de Media y Varianza**: Se calculan y muestran la media y la varianza de la distribución.\n",
        "\n",
        "Este ejemplo ilustra cómo implementar y visualizar la distribución uniforme continua utilizando Python, proporcionando una herramienta práctica para entender sus propiedades y comportamiento."
      ],
      "metadata": {
        "id": "ufw875VejSWX"
      }
    },
    {
      "cell_type": "markdown",
      "source": [
        "\n",
        "\n",
        "## 4.3 Distribución Binomial y de Bernouilli\n",
        "\n",
        "El experimento de Bernouilli consiste en la realización de una prueba estadística en la que el resultado solamente puede tomar dos valores discretos, habitualmente se les denota como 1 y 0 y se les denomina como éxito y fracaso u otras denominaciones que reflejen el carácter dicotómico de la variable.\n",
        "\n",
        "La distribución de probabilidad asociada en la que el mismo experimento se realiza un número de veces comprendido entre 1 y \\(n\\) se denomina Distribución Binomial haciendo referencia al tipo de valores que toma la variable. En el caso en el que el número de experimentos es 1 la distribución se denomina indistintamente de Bernouilli o Binomial.\n",
        "\n",
        "### Ejemplo en Python para Distribución Binomial"
      ],
      "metadata": {
        "id": "sjgeT_h0TZpT"
      }
    },
    {
      "cell_type": "code",
      "source": [
        "from scipy.stats import binom\n",
        "import matplotlib.pyplot as plt\n",
        "\n",
        "# Parámetros de la distribución\n",
        "n = 10  # número de ensayos\n",
        "p = 0.5  # probabilidad de éxito\n",
        "\n",
        "# Generar valores de la variable aleatoria binomial\n",
        "valores = np.arange(0, n+1)\n",
        "probabilidades = binom.pmf(valores, n, p)\n",
        "\n",
        "# Graficar la distribución binomial\n",
        "plt.vlines(valores, 0, probabilidades, colors='b', lw=5)\n",
        "plt.plot(valores, probabilidades, 'bo', ms=8)\n",
        "plt.xlabel('Número de éxitos')\n",
        "plt.ylabel('Probabilidad')\n",
        "plt.title('Distribución Binomial (n=10, p=0.5)')\n",
        "plt.grid(True)\n",
        "plt.show()"
      ],
      "metadata": {
        "id": "yezGgUuomCLh"
      },
      "execution_count": null,
      "outputs": []
    },
    {
      "cell_type": "markdown",
      "source": [
        "Variables Discretas:  El Reino de lo Contable\n",
        "\n",
        "*  En el mundo discreto, todo se puede contar:  personas, objetos, eventos.  Las **variables discretas**  representan estas cantidades contables.\n",
        "    * Sus valores son enteros y forman una secuencia: 1, 2, 3... ¡Sin decimales!\n",
        "    * **Ejemplos:**\n",
        "        * Número de estudiantes:  20, 25, 30...\n",
        "        * Caras de un dado: 1, 2, 3, 4, 5, 6\n",
        "        * Días de la semana: Lunes, Martes... Domingo\n",
        "        "
      ],
      "metadata": {
        "id": "mHTgxXhx2TYm"
      }
    },
    {
      "cell_type": "markdown",
      "source": [
        "Distribución Uniforme Discreta:  Igualdad de Oportunidades\n",
        "\n",
        "En una distribución uniforme discreta, todos los valores posibles tienen la misma probabilidad de ocurrir. ¡Como un dado perfecto!\n",
        "    * **Función de Probabilidad:**\n",
        "        *  P(x) = 1/n,  donde 'n' es el número de valores posibles.\n",
        "    * **Ejemplo:** En un dado de 6 caras,  la probabilidad de obtener cualquier cara es 1/6  (aprox. 16.67%).\n"
      ],
      "metadata": {
        "id": "8KmpMawJ40E0"
      }
    },
    {
      "cell_type": "code",
      "source": [
        "import numpy as np\n",
        "import matplotlib.pyplot as plt\n",
        "\n",
        "# Simulamos 1000 lanzamientos de un dado\n",
        "lanzamientos = np.random.randint(1, 7, size=5000)\n",
        "\n",
        "# Creamos un histograma para visualizar la distribución uniforme\n",
        "plt.hist(lanzamientos, bins=np.arange(0.5, 7.5), edgecolor='black', color='skyblue')\n",
        "plt.xlabel('Cara del Dado')\n",
        "plt.ylabel('Frecuencia')\n",
        "plt.title('Distribución Uniforme Discreta (Dado)')\n",
        "plt.show()"
      ],
      "metadata": {
        "id": "vvlsAT9Z2UEX"
      },
      "execution_count": null,
      "outputs": []
    },
    {
      "cell_type": "markdown",
      "source": [
        "Uniforme Discreta: Encontrando el Centro y la Dispersión\n",
        "\n",
        "* **Media (μ):** Es el valor promedio que esperamos obtener. En la distribución uniforme, la media está en el centro.\n",
        "μ = $\\frac{a + b}{2}$, donde 'a' es el límite inferior y 'b' es el límite superior.\n",
        "* **Varianza (σ²):** Mide la dispersión de los valores alrededor de la media.\n",
        "σ² = $\\frac{1}{n} \\sum_{i=1}^{n} (x_i - μ)^2$\n",
        "\n"
      ],
      "metadata": {
        "id": "X1GHO__5K_rO"
      }
    },
    {
      "cell_type": "code",
      "source": [
        "import numpy as np\n",
        "\n",
        "# Valores del dado\n",
        "valores = np.array([1, 2, 3, 4, 5, 6])\n",
        "\n",
        "# Calculamos la media\n",
        "media = np.mean(valores)\n",
        "\n",
        "# Calculamos cada término (x_i - μ)^2\n",
        "terminos_varianza = (valores - media)**2\n",
        "\n",
        "# Sumamos los términos\n",
        "suma_terminos_varianza = np.sum(terminos_varianza)\n",
        "\n",
        "# Dividimos por el número de valores para obtener la varianza\n",
        "varianza = suma_terminos_varianza / len(valores)\n",
        "\n",
        "print(f\"La media de la distribución uniforme es: {media}\")\n",
        "print(f\"La varianza de la distribución uniforme es: {varianza}\")"
      ],
      "metadata": {
        "id": "lAAgW0t1K1nM"
      },
      "execution_count": null,
      "outputs": []
    },
    {
      "cell_type": "markdown",
      "source": [
        " Uniforme Discreta: No Todo Son Dados\n",
        " * La distribución uniforme discreta  se usa en cualquier situación donde cada resultado tenga la misma probabilidad.\n",
        "    * **Ejemplos:**\n",
        "        *  Elegir una carta al azar de una baraja bien barajada.\n",
        "        *  Seleccionar un ganador aleatorio en un sorteo.\n",
        "        *  Generar un número aleatorio entre 1 y 10 en un programa de computadora."
      ],
      "metadata": {
        "id": "AzW9vP-cSI15"
      }
    },
    {
      "cell_type": "code",
      "source": [
        "import random\n",
        "\n",
        "# Simular un sorteo con 100 boletos\n",
        "boletos = list(range(1, 101))  # Creamos una lista de boletos del 1 al 100\n",
        "ganador = random.choice(boletos)  # Elegimos un boleto al azar\n",
        "\n",
        "print(f\"¡El boleto ganador es el número {ganador}!\")"
      ],
      "metadata": {
        "id": "XnY_Rn2ELOz4"
      },
      "execution_count": null,
      "outputs": []
    },
    {
      "cell_type": "markdown",
      "source": [
        "Distribución Uniforme Continua: Probabilidad en un Rango\n",
        "\n",
        "* La distribución uniforme continua describe la probabilidad de que una variable tome un valor dentro de un rango específico.\n",
        "    * **Función de Densidad de Probabilidad:**\n",
        "        * f(x) = 1/(b-a) para a ≤ x ≤ b\n",
        "        * f(x) = 0  en otro caso.\n",
        "        * Donde 'a' es el límite inferior y 'b' es el límite superior.\n",
        "    * **Ejemplo:**  Un sensor de temperatura que mide valores entre 0°C y 100°C con igual probabilidad."
      ],
      "metadata": {
        "id": "Dp1-K4StShKK"
      }
    },
    {
      "cell_type": "code",
      "source": [
        "import numpy as np\n",
        "import matplotlib.pyplot as plt\n",
        "\n",
        "a = 0  # Límite inferior\n",
        "b = 100  # Límite superior\n",
        "\n",
        "# Generamos 1000 valores aleatorios dentro del rango\n",
        "valores = np.random.uniform(a, b, size=10000)\n",
        "\n",
        "# Visualizamos la distribución uniforme continua\n",
        "plt.hist(valores, bins=15, edgecolor='black', color='coral', density=True)\n",
        "plt.xlabel('Valor')\n",
        "plt.ylabel('Densidad de Probabilidad')\n",
        "plt.title('Distribución Uniforme Continua (0 a 10)')\n",
        "plt.show()"
      ],
      "metadata": {
        "id": "kKbnXvBHSX7p"
      },
      "execution_count": null,
      "outputs": []
    },
    {
      "cell_type": "code",
      "source": [
        "valores"
      ],
      "metadata": {
        "id": "ddoZv7HeSrOW"
      },
      "execution_count": null,
      "outputs": []
    },
    {
      "cell_type": "markdown",
      "source": [
        "Uniforme Continua:  Centro y Dispersión en un Rango\n",
        "\n",
        "* **Media (μ):** El valor promedio esperado, ubicado en el centro del intervalo.\n",
        "        * μ = (a + b) / 2\n",
        "* **Varianza (σ²):**  Mide la dispersión de los valores alrededor de la media.\n",
        "        * σ² = (b - a)² / 12"
      ],
      "metadata": {
        "id": "E_8nwdB5TWbF"
      }
    },
    {
      "cell_type": "code",
      "source": [
        "a = 0  # Límite inferior\n",
        "b = 100  # Límite superior\n",
        "\n",
        "mu = (a + b) / 2\n",
        "varianza = (b - a)**2 / 12\n",
        "\n",
        "print(f\"La media de la distribución uniforme continua es: {mu}\")\n",
        "print(f\"La varianza de la distribución uniforme continua es: {varianza}\")"
      ],
      "metadata": {
        "id": "r_BuTgeJS2zB"
      },
      "execution_count": null,
      "outputs": []
    },
    {
      "cell_type": "markdown",
      "source": [
        "Uniforme Continua:  Aplicaciones en el Mundo Real\n",
        "* La distribución uniforme continua se usa para describir procesos donde cualquier valor dentro de un rango es igualmente probable.\n",
        "    * **Ejemplos:**\n",
        "        *  Generar números aleatorios decimales para simulaciones.\n",
        "        *  Modelar el tiempo de espera para un evento que ocurre con regularidad.\n",
        "        *  Analizar la distribución de errores de redondeo en un cálculo.\n"
      ],
      "metadata": {
        "id": "FqCWzhv1UI8i"
      }
    },
    {
      "cell_type": "markdown",
      "source": [
        "Experimento de Bernoulli:  Un Solo Intento, Dos Posibles Resultados\n",
        "* Un **experimento de Bernoulli** es un evento con solo dos posibles resultados, que llamamos:\n",
        "* **Éxito (1):** Representa el resultado que nos interesa.\n",
        "* **Fracaso (0):**  Representa el otro resultado posible.\n",
        "* **Ejemplos:**\n",
        "* Lanzar una moneda: Cara (éxito) o Cruz (fracaso).\n",
        "* Responder \"Verdadero o Falso\":  Verdadero (éxito) o Falso (fracaso).\n",
        "*  Un producto pasa la inspección de calidad: Aprobado (éxito) o Rechazado (fracaso)."
      ],
      "metadata": {
        "id": "ZysaVCm3UYFK"
      }
    },
    {
      "cell_type": "markdown",
      "source": [
        "Distribución Binomial: ¡Contando los Éxitos en Varios Intentos!\n",
        "\n",
        "* ¿Qué pasa si repetimos un experimento de Bernoulli varias veces? La **distribución binomial** nos dice la probabilidad de obtener un número específico de éxitos en 'n' intentos.\n",
        "    * **Parámetros:**\n",
        "        * 'n': Número total de intentos (ej: 10 lanzamientos de moneda).\n",
        "        * 'p': Probabilidad de éxito en un solo intento (ej: probabilidad de obtener cara).\n",
        "* **Función de Probabilidad:**\n",
        "$P(X = k) = \\binom{n}{k} p^k (1-p)^{n-k} $\n",
        "\n",
        "Donde 'k' es el número de éxitos que queremos obtener y $\\binom{n}{k}$ es el coeficiente binomial (número de combinaciones posibles).\n",
        "\n",
        "* **Coeficiente Binomial $(\\binom{n}{k})$**:\n",
        "    * El coeficiente binomial, también conocido como número de combinaciones, se calcula como:\n",
        "      $\n",
        "      \\binom{n}{k} = \\frac{n!}{k!(n-k)!}\n",
        "      $\n",
        "    * Representa el número de formas en que se pueden elegir 'k' éxitos entre 'n' intentos."
      ],
      "metadata": {
        "id": "av7-8EoLU6Lt"
      }
    },
    {
      "cell_type": "markdown",
      "source": [
        "Binomial en Acción:  ¿Tres Caras en Cinco Lanzamientos?\n",
        "\n",
        "* **Ejemplo:**  Lanzamos una moneda 5 veces (n=5). ¿Cuál es la probabilidad de obtener exactamente 3 caras (k=3)?\n",
        "\n",
        "Este cálculo corresponde a una probabilidad binomial. Aquí, estamos buscando la probabilidad de obtener exactamente 3 caras (X = 3) en 5 lanzamientos de una moneda, donde la probabilidad de obtener una cara en cada lanzamiento es 0.5.\n",
        "\n",
        "La fórmula de la probabilidad binomial es:\n",
        "$ P(X = k) = \\binom{n}{k} p^k (1-p)^{n-k} $\n",
        "\n",
        "Donde:\n",
        "- $ n $ es el número total de pruebas (lanzamientos), que es 5.\n",
        "- $ k $ es el número de éxitos deseados (caras), que es 3.\n",
        "- $ p $ es la probabilidad de éxito en una prueba, que es 0.5.\n",
        "- $ \\binom{n}{k} $ es el coeficiente binomial, que representa el número de formas de escoger k éxitos en n pruebas.\n",
        "\n",
        "Aplicando estos valores a la fórmula:\n",
        "$ P(X = 3) = \\binom{5}{3} (0.5)^3 (0.5)^{5-3} $\n",
        "\n",
        "Primero, calculamos el coeficiente binomial:\n",
        "$ \\binom{5}{3} = \\frac{5!}{3!(5-3)!} = \\frac{5!}{3!2!} = \\frac{5 \\times 4 \\times 3!}{3! \\times 2 \\times 1} = \\frac{5 \\times 4}{2 \\times 1} = 10 $\n",
        "\n",
        "Luego, calculamos las potencias de 0.5:\n",
        "$ (0.5)^3 = 0.125 $\n",
        "$ (0.5)^2 = 0.25 $\n",
        "\n",
        "Ahora, combinamos estos valores:\n",
        "$ P(X = 3) = 10 \\times 0.125 \\times 0.25 $\n",
        "\n",
        "Finalmente, realizamos la multiplicación:\n",
        "$ P(X = 3) = 10 \\times 0.03125 = 0.3125 $\n",
        "\n",
        "Por lo tanto, la probabilidad de obtener exactamente 3 caras en 5 lanzamientos de una moneda es 0.3125 o 31.25%."
      ],
      "metadata": {
        "id": "DERBcyp1Vg_d"
      }
    },
    {
      "cell_type": "code",
      "source": [
        "import itertools\n",
        "\n",
        "# Definir el número de lanzamientos y el número de caras deseadas\n",
        "n = 5\n",
        "k = 3\n",
        "\n",
        "# Generar todas las combinaciones posibles de n lanzamientos con k caras\n",
        "# Número de formas de escoger k éxitos en n pruebas\n",
        "combinaciones = itertools.combinations(range(n), k)\n",
        "\n",
        "# Crear una representación de cada combinación con C (cara) y X (cruz)\n",
        "resultados = []\n",
        "for combinacion in combinaciones:\n",
        "    resultado = ['0'] * n\n",
        "    for indice in combinacion:\n",
        "        resultado[indice] = '1'\n",
        "    resultados.append('-'.join(resultado))  # Añadir guion entre cada número\n",
        "\n",
        "# Imprimir todas las combinaciones\n",
        "i = 1\n",
        "for resultado in resultados:\n",
        "    print(str(i)+\".- \\t\"+resultado)\n",
        "    i=i+1"
      ],
      "metadata": {
        "id": "UZX5Rv1asw2J"
      },
      "execution_count": null,
      "outputs": []
    },
    {
      "cell_type": "code",
      "source": [],
      "metadata": {
        "id": "CUGN7VTztW6f"
      },
      "execution_count": null,
      "outputs": []
    },
    {
      "cell_type": "code",
      "source": [
        "from scipy.stats import binom\n",
        "import numpy as np\n",
        "import matplotlib.pyplot as plt\n",
        "\n",
        "n = 5  # Número de lanzamientos\n",
        "p = 0.5  # Probabilidad de cara\n",
        "k = 3  # Número de caras deseadas\n",
        "\n",
        "# Calculamos la probabilidad de obtener 3 caras\n",
        "prob_3_caras = binom.pmf(k, n, p)\n",
        "\n",
        "print(f\"Probabilidad de 3 caras en 5 lanzamientos: {prob_3_caras:.4f}\")\n",
        "\n",
        "# Visualizamos la distribución binomial\n",
        "x = np.arange(0, n+1)\n",
        "probabilidades = binom.pmf(x, n, p)\n",
        "\n",
        "plt.bar(x, probabilidades, edgecolor='black', color='lightgreen')\n",
        "plt.xlabel('Número de Caras')\n",
        "plt.ylabel('Probabilidad')\n",
        "plt.title('Distribución Binomial (n=5, p=0.5)')\n",
        "plt.show()"
      ],
      "metadata": {
        "id": "WqyYo9vaTdjS"
      },
      "execution_count": null,
      "outputs": []
    },
    {
      "cell_type": "markdown",
      "source": [
        "Media y Varianza en la Distribución Binomial\n",
        "* **Media (μ):**  El número promedio de éxitos que esperamos.\n",
        "    * μ = n * p\n",
        "* **Varianza (σ²):** Mide la dispersión de los resultados alrededor de la media.\n",
        "    * σ² = n * p * (1 - p)\n"
      ],
      "metadata": {
        "id": "Hyv-mIb1XM2y"
      }
    },
    {
      "cell_type": "code",
      "source": [
        "n = 10  # Número de intentos\n",
        "p = 0.6  # Probabilidad de éxito\n",
        "\n",
        "# Calculamos la media y la varianza\n",
        "mu = n * p\n",
        "varianza = n * p * (1 - p)\n",
        "\n",
        "print(f\"La media de la distribución binomial es: {mu}\")\n",
        "print(f\"La varianza de la distribución binomial es: {varianza}\")"
      ],
      "metadata": {
        "id": "35stQVznW29d"
      },
      "execution_count": null,
      "outputs": []
    }
  ]
}