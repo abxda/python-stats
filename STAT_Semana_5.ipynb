{
  "nbformat": 4,
  "nbformat_minor": 0,
  "metadata": {
    "colab": {
      "provenance": [],
      "authorship_tag": "ABX9TyMKNq0JiaGtPPceI+eIpMHp",
      "include_colab_link": true
    },
    "kernelspec": {
      "name": "python3",
      "display_name": "Python 3"
    },
    "language_info": {
      "name": "python"
    }
  },
  "cells": [
    {
      "cell_type": "markdown",
      "metadata": {
        "id": "view-in-github",
        "colab_type": "text"
      },
      "source": [
        "<a href=\"https://colab.research.google.com/github/abxda/python-stats/blob/main/STAT_Semana_5.ipynb\" target=\"_parent\"><img src=\"https://colab.research.google.com/assets/colab-badge.svg\" alt=\"Open In Colab\"/></a>"
      ]
    },
    {
      "cell_type": "markdown",
      "source": [
        "## Conceptos Básicos de Probabilidad\n",
        "\n",
        "La probabilidad es una medida de la posibilidad de que ocurra un evento. Se define matemáticamente como:\n",
        "\n",
        "$P(A) = \\frac{\\text{Número de casos favorables}}{\\text{Número de casos posibles}}$\n",
        "\n",
        "Donde:\n",
        "- $P(A)$ es la probabilidad del evento A\n",
        "- $0 \\leq P(A) \\leq 1$\n",
        "\n",
        "### Técnicas de Conteo\n",
        "\n",
        "1. **Principio de la Adición**: Para eventos mutuamente excluyentes A y B:\n",
        "   $P(A \\cup B) = P(A) + P(B)$\n",
        "\n",
        "2. **Principio de la Multiplicación**: Si un evento A puede ocurrir de m formas y un evento B de n formas, entonces ambos pueden ocurrir de $m \\times n$ formas.\n",
        "\n",
        "3. **Permutaciones**: Cuando el orden importa:\n",
        "   $P(n,r) = \\frac{n!}{(n-r)!}$\n",
        "\n",
        "4. **Combinaciones**: Cuando el orden no importa:\n",
        "   $\\binom{n}{r} = \\frac{n!}{r!(n-r)!}$\n",
        "\n",
        "### Reglas Importantes\n",
        "\n",
        "1. **Regla del Complemento**:\n",
        "   $P(\\bar{A}) = 1 - P(A)$\n",
        "\n",
        "2. **Regla de la Suma Generalizada**:\n",
        "   $P(A \\cup B) = P(A) + P(B) - P(A \\cap B)$\n",
        "\n",
        "3. **Probabilidad Condicional**:\n",
        "   $P(A|B) = \\frac{P(A \\cap B)}{P(B)}$\n",
        "\n",
        "4. **Teorema de la Probabilidad Total**:\n",
        "   $P(B) = \\sum_{i} P(A_i) \\cdot P(B|A_i)$\n",
        "\n",
        "5. **Teorema de Bayes**:\n",
        "   $P(A|B) = \\frac{P(B|A) \\cdot P(A)}{P(B)}$"
      ],
      "metadata": {
        "id": "tE_v75eEzxtT"
      }
    },
    {
      "cell_type": "code",
      "source": [],
      "metadata": {
        "id": "CFvwDxNJbJrt"
      },
      "execution_count": null,
      "outputs": []
    },
    {
      "cell_type": "code",
      "source": [],
      "metadata": {
        "id": "7x-9l-jHbJyl"
      },
      "execution_count": null,
      "outputs": []
    },
    {
      "cell_type": "markdown",
      "source": [
        "\n",
        "**Ejemplo del Teorema de la Probabilidad Total**\n",
        "\n",
        "El Teorema de la Probabilidad Total es una herramienta fundamental en la teoría de la probabilidad que nos permite calcular la probabilidad de un evento considerando todas las formas posibles en que puede ocurrir. Este teorema es especialmente útil cuando un evento puede ocurrir a través de varios escenarios mutuamente excluyentes y colectivamente exhaustivos.\n",
        "\n",
        "Formalmente, si tenemos un evento B y un conjunto de eventos A1, A2, ..., An que son mutuamente excluyentes y cubren todo el espacio muestral, entonces:\n",
        "\n",
        "$P(B) = \\sum_{i=1}^n P(A_i) \\cdot P(B|A_i)$\n",
        "\n",
        "Donde:\n",
        "- $P(B)$ es la probabilidad total del evento B\n",
        "- $P(A_i)$ es la probabilidad de que ocurra el evento $A_i$\n",
        "- $P(B|A_i)$ es la probabilidad condicional de B dado que ocurrió $A_i$\n",
        "\n",
        "**Ejemplo Práctico: Las Tres Urnas**\n",
        "\n",
        "Vamos a analizar el ejemplo de las tres urnas paso a paso:\n",
        "\n",
        "Datos:\n",
        "- Urna 1: 1 bola roja, 3 bolas azules\n",
        "- Urna 2: 2 bolas rojas, 2 bolas azules\n",
        "- Urna 3: 3 bolas rojas, 1 bola azul\n",
        "- Se selecciona una urna al azar y luego se extrae una bola\n",
        "\n",
        "Queremos calcular: La probabilidad de extraer una bola roja\n",
        "\n",
        "Paso 1: Definir los eventos\n",
        "B: Extraer una bola roja\n",
        "A1: Seleccionar la Urna 1\n",
        "A2: Seleccionar la Urna 2\n",
        "A3: Seleccionar la Urna 3\n",
        "\n",
        "Paso 2: Calcular las probabilidades de selección de cada urna\n",
        "P(A1) = P(A2) = P(A3) = 1/3 (ya que la selección es al azar)\n",
        "\n",
        "Paso 3: Calcular las probabilidades condicionales de extraer una bola roja de cada urna\n",
        "P(B|A1) = 1/4 (1 roja de 4 bolas en la Urna 1)\n",
        "P(B|A2) = 2/4 = 1/2 (2 rojas de 4 bolas en la Urna 2)\n",
        "P(B|A3) = 3/4 (3 rojas de 4 bolas en la Urna 3)\n",
        "\n",
        "Paso 4: Aplicar el Teorema de la Probabilidad Total\n",
        "$P(B) = P(A_1) \\cdot P(B|A_1) + P(A_2) \\cdot P(B|A_2) + P(A_3) \\cdot P(B|A_3)$\n",
        "$     = (1/3 \\cdot 1/4) + (1/3 \\cdot 1/2) + (1/3 \\cdot 3/4)$\n",
        "$     = 1/12 + 1/6 + 1/4$\n",
        "$     = 1/12 + 2/12 + 3/12$\n",
        "$     = 6/12$\n",
        "$     = 1/2$\n",
        "\n",
        "Conclusión: La probabilidad de extraer una bola roja es 1/2 o 50%.\n",
        "\n",
        "Interpretación:\n",
        "Este resultado tiene sentido intuitivamente. Si repetimos este experimento muchas veces:\n",
        "- Un tercio de las veces elegiremos la Urna 1, donde tenemos 25% de probabilidad de sacar una bola roja.\n",
        "- Un tercio de las veces elegiremos la Urna 2, donde tenemos 50% de probabilidad de sacar una bola roja.\n",
        "- Un tercio de las veces elegiremos la Urna 3, donde tenemos 75% de probabilidad de sacar una bola roja.\n",
        "\n",
        "El promedio de estas probabilidades es (25% + 50% + 75%) / 3 = 50%, que coincide con nuestro cálculo.\n",
        "\n",
        "Este ejemplo ilustra cómo el Teorema de la Probabilidad Total nos permite calcular la probabilidad de un evento (sacar una bola roja) considerando todas las formas posibles en que puede ocurrir (a través de las diferentes urnas), ponderando cada posibilidad por su probabilidad de ocurrencia."
      ],
      "metadata": {
        "id": "vr6GbJQ5Rk12"
      }
    },
    {
      "cell_type": "code",
      "source": [],
      "metadata": {
        "id": "om9pwcM0UxMC"
      },
      "execution_count": null,
      "outputs": []
    },
    {
      "cell_type": "code",
      "source": [],
      "metadata": {
        "id": "FiQyeBfDUxU1"
      },
      "execution_count": null,
      "outputs": []
    },
    {
      "cell_type": "markdown",
      "source": [
        "### **Ejemplo Teorema de Bayes**\n",
        "\n",
        "En una ciudad, el 1% de la población tiene una enfermedad rara. Se ha desarrollado una prueba diagnóstica con una precisión del 99% tanto para detectar la enfermedad como para identificar correctamente a las personas sanas. Si una persona da positivo en la prueba, ¿cuál es la probabilidad de que realmente tenga la enfermedad?\n",
        "\n",
        "### Paso 1: Definir los eventos y datos\n",
        "\n",
        "Definimos los siguientes eventos:\n",
        "- $E$: Tener la enfermedad.\n",
        "- $P$: Dar positivo en la prueba.\n",
        "\n",
        "Datos:\n",
        "- $P(E) = 0.01$ (prevalencia de la enfermedad, es decir, el 1% de la población tiene la enfermedad).\n",
        "- $P(P|E) = 0.99$ (sensibilidad de la prueba, es decir, la probabilidad de que la prueba sea positiva dado que la persona tiene la enfermedad).\n",
        "- $P(\\neg P|\\neg E) = 0.99$ (especificidad de la prueba, es decir, la probabilidad de que la prueba sea negativa dado que la persona no tiene la enfermedad).\n",
        "\n",
        "### Paso 2: Identificar lo que queremos calcular\n",
        "\n",
        "Queremos calcular $P(E|P)$, la probabilidad de tener la enfermedad dado que la prueba es positiva.\n",
        "\n",
        "### Importancia del Orden\n",
        "\n",
        "Es fundamental entender que \\( P(P|E) \\) y \\( P(E|P) \\) representan dos probabilidades diferentes.\n",
        "\n",
        "- \\( P(P|E) \\) (la probabilidad de que la prueba sea positiva dado que la persona tiene la enfermedad) refleja la precisión de la prueba en detectar la enfermedad cuando esta realmente está presente. Es una medida de la **sensibilidad** de la prueba.\n",
        "\n",
        "- \\( P(E|P) \\) (la probabilidad de tener la enfermedad dado que la prueba es positiva) es lo que realmente nos interesa saber después de obtener un resultado positivo en la prueba. Esta probabilidad depende no solo de la precisión de la prueba, sino también de la prevalencia de la enfermedad en la población general. Esta es la **probabilidad posterior**, la cual se calcula usando el Teorema de Bayes.\n",
        "\n",
        "### Paso 3: Recordar el Teorema de Bayes\n",
        "\n",
        "El Teorema de Bayes se expresa como:\n",
        "\n",
        "$$\n",
        "P(A|B) = \\frac{P(B|A) \\cdot P(A)}{P(B)}\n",
        "$$\n",
        "(donde $P(A|B)$ es la probabilidad del evento $A$ dado que ocurrió $B$, $P(B|A)$ es la probabilidad del evento $B$ dado que ocurrió $A$, $P(A)$ es la probabilidad del evento $A$, y $P(B)$ es la probabilidad del evento $B$).\n",
        "\n",
        "En nuestro caso:\n",
        "\n",
        "$$\n",
        "P(E|P) = \\frac{P(P|E) \\cdot P(E)}{P(P)}\n",
        "$$\n",
        "(donde $P(E|P)$ es la probabilidad de tener la enfermedad dado que la prueba es positiva, $P(P|E)$ es la probabilidad de que la prueba sea positiva dado que la persona tiene la enfermedad, $P(E)$ es la probabilidad de tener la enfermedad, y $P(P)$ es la probabilidad de que la prueba sea positiva).\n",
        "\n",
        "### Paso 4: Expandir $P(P)$ usando el Teorema de la Probabilidad Total\n",
        "Para entender por qué podemos expandir $ P(P) $ usando el Teorema de la Probabilidad Total, primero debemos recordar qué implica este teorema.\n",
        "\n",
        "El Teorema de la Probabilidad Total nos permite calcular la probabilidad de un evento considerando todas las formas posibles en que puede ocurrir. Este teorema es especialmente útil cuando un evento puede ocurrir a través de varios escenarios que son mutuamente excluyentes y colectivamente exhaustivos.\n",
        "\n",
        "#### Definición de eventos mutuamente excluyentes y exhaustivos:\n",
        "- **Mutuamente excluyentes**: Dos eventos son mutuamente excluyentes si no pueden ocurrir simultáneamente. En nuestro caso, una persona no puede tener la enfermedad y no tenerla al mismo tiempo.\n",
        "- **Colectivamente exhaustivos**: Un conjunto de eventos es colectivamente exhaustivo si cubre todas las posibles situaciones. En nuestro caso, la persona o tiene la enfermedad o no la tiene, abarcando todas las posibilidades.\n",
        "\n",
        "#### Aplicación al ejemplo:\n",
        "\n",
        "Queremos calcular $ P(P) $, la probabilidad de que la prueba sea positiva. Este evento puede ocurrir de dos maneras:\n",
        "1. La persona tiene la enfermedad ($ E $).\n",
        "2. La persona no tiene la enfermedad ($ \\neg E $).\n",
        "\n",
        "Estos dos eventos ($ E $ y $ \\neg E $) son mutuamente excluyentes (una persona no puede simultáneamente tener y no tener la enfermedad) y colectivamente exhaustivos (cubren todas las posibles situaciones de salud respecto a la enfermedad).\n",
        "\n",
        "Por lo tanto, podemos usar el Teorema de la Probabilidad Total para descomponer $ P(P) $ en términos de $ E $ y $ \\neg E $:\n",
        "\n",
        "$$\n",
        "P(P) = P(P|E) \\cdot P(E) + P(P|\\neg E) \\cdot P(\\neg E)\n",
        "$$\n",
        "\n",
        "(donde $ P(P) $ es la probabilidad de que la prueba sea positiva, considerando ambas posibilidades: tener la enfermedad y no tenerla).\n",
        "\n",
        "- $ P(P|E) $ es la probabilidad de que la prueba sea positiva dado que la persona tiene la enfermedad.\n",
        "- $ P(E) $ es la probabilidad de que la persona tenga la enfermedad.\n",
        "- $ P(P|\\neg E) $ es la probabilidad de que la prueba sea positiva dado que la persona no tiene la enfermedad.\n",
        "- $ P(\\neg E) $ es la probabilidad de que la persona no tenga la enfermedad.\n",
        "\n",
        "#### Explicación del cálculo:\n",
        "\n",
        "1. **Caso 1: La persona tiene la enfermedad ($ E $)**:\n",
        "   - La prueba da un verdadero positivo con probabilidad $ P(P|E) $.\n",
        "   - Esto ocurre con una probabilidad de $ P(E) $.\n",
        "\n",
        "2. **Caso 2: La persona no tiene la enfermedad ($ \\neg E $)**:\n",
        "   - La prueba da un falso positivo con probabilidad $ P(P|\\neg E) $.\n",
        "   - Esto ocurre con una probabilidad de $ P(\\neg E) $.\n",
        "\n",
        "Sumando estas dos probabilidades, obtenemos la probabilidad total de que la prueba sea positiva, considerando ambos escenarios mutuamente excluyentes y colectivamente exhaustivos.\n",
        "\n",
        "#### Aplicación en la fórmula de Bayes:\n",
        "\n",
        "Esto nos da la fórmula expandida del Teorema de Bayes:\n",
        "\n",
        "$$\n",
        "P(E|P) = \\frac{P(P|E) \\cdot P(E)}{P(P|E) \\cdot P(E) + P(P|\\neg E) \\cdot P(\\neg E)}\n",
        "$$\n",
        "\n",
        "(donde cada término se explica como antes, pero ahora considerando ambas posibilidades para $ P(P) $).\n",
        "\n",
        "### Importancia del Teorema de la Probabilidad Total\n",
        "\n",
        "El valor de aplicar el Teorema de la Probabilidad Total radica en su capacidad para descomponer un problema complejo en partes más manejables. En este ejemplo, nos permite calcular la probabilidad total de un resultado de prueba positiva considerando todas las formas en que puede ocurrir, ponderando cada escenario por su probabilidad de ocurrencia. Esto es crucial para aplicar correctamente el Teorema de Bayes y obtener una estimación precisa de la probabilidad posterior, $ P(E|P) $.\n",
        "\n",
        "### Paso 5: Calcular las probabilidades que faltan\n",
        "\n",
        "$$\n",
        "P(\\neg E) = 1 - P(E) = 1 - 0.01 = 0.99\n",
        "$$\n",
        "(donde $P(\\neg E)$ es la probabilidad de no tener la enfermedad).\n",
        "\n",
        "$$\n",
        "P(P|\\neg E) = 1 - P(\\neg P|\\neg E) = 1 - 0.99 = 0.01\n",
        "$$\n",
        "(donde $P(P|\\neg E)$ es la probabilidad de que la prueba sea positiva dado que la persona no tiene la enfermedad, calculada como uno menos la especificidad de la prueba).\n",
        "\n",
        "#### Explicación Intuitiva:\n",
        "\n",
        "La especificidad $P(\\neg P|\\neg E) = 0.99$ nos dice que si una persona no tiene la enfermedad, hay un 99% de probabilidad de que la prueba sea negativa. Esto implica que hay un 1% de probabilidad de que la prueba sea positiva a pesar de que la persona no tiene la enfermedad (un falso positivo). Por lo tanto, $P(P|\\neg E) = 0.01$.\n",
        "\n",
        "### Paso 6: Sustituir los valores en la fórmula\n",
        "\n",
        "$$\n",
        "P(E|P) = \\frac{0.99 \\cdot 0.01}{(0.99 \\cdot 0.01) + (0.01 \\cdot 0.99)}\n",
        "$$\n",
        "(sustituyendo $P(P|E)$, $P(E)$, $P(P|\\neg E)$ y $P(\\neg E)$ en la fórmula).\n",
        "\n",
        "### Paso 7: Realizar los cálculos\n",
        "\n",
        "$$\n",
        "P(E|P) = \\frac{0.0099}{0.0099 + 0.0099} = \\frac{0.0099}{0.0198} = 0.5\n",
        "$$\n",
        "(realizando los cálculos aritméticos).\n",
        "\n",
        "### Interpretación\n",
        "\n",
        "Si una persona da positivo en la prueba, tiene un 50% de probabilidad de tener realmente la enfermedad.\n",
        "\n",
        "### Explicación adicional\n",
        "\n",
        "1. **Precisión y Prevalencia**: Aunque la prueba es 99% precisa, la probabilidad de tener la enfermedad después de un resultado positivo es solo del 50%. Esto se debe a la baja prevalencia de la enfermedad en la población.\n",
        "\n",
        "2. **Análisis de un grupo de 10,000 personas**:\n",
        "   - **100 personas** tendrán la enfermedad (1% de 10,000).\n",
        "   - De estas **100 personas**, **99** darán positivo (99% de 100).\n",
        "   - De las **9,900 personas sanas**, **99** darán un falso positivo (1% de 9,900).\n",
        "   - En total, habrá **198 resultados positivos** (99 + 99).\n",
        "   - De estos **198 positivos**, solo **99** realmente tienen la enfermedad.\n",
        "\n",
        "3. **Importancia del contexto**: Este ejemplo ilustra por qué es importante considerar tanto la precisión de la prueba como la prevalencia de la condición al interpretar los resultados de pruebas médicas.\n",
        "\n",
        "4. **Uso del Teorema de Bayes**: Este teorema nos permite actualizar nuestras creencias basadas en nueva evidencia, combinando la información previa (prevalencia) con los nuevos datos (resultado de la prueba)."
      ],
      "metadata": {
        "id": "q5933egUR02H"
      }
    },
    {
      "cell_type": "code",
      "source": [],
      "metadata": {
        "id": "aRxDka34cN0l"
      },
      "execution_count": null,
      "outputs": []
    },
    {
      "cell_type": "code",
      "source": [],
      "metadata": {
        "id": "1koP7nWKcN5Y"
      },
      "execution_count": null,
      "outputs": []
    },
    {
      "cell_type": "markdown",
      "source": [
        "## Ejemplo Práctico: Análisis de Control de Calidad\n",
        "\n",
        "Consideremos un escenario de control de calidad en una fábrica de máquinas. Tenemos un lote de $n$ máquinas, de las cuales $d$ son defectuosas. Seleccionamos aleatoriamente $k$ máquinas para inspección.\n",
        "\n",
        "### Cálculo de Probabilidad de Rechazo\n",
        "\n",
        "La probabilidad de rechazar el lote si al menos una de las $k$ máquinas seleccionadas es defectuosa se calcula de la siguiente manera:\n",
        "\n",
        "1. **Espacio Muestral ($S$)**:\n",
        "   $S = \\binom{n}{k}$\n",
        "\n",
        "2. **Combinaciones Favorables ($F$)**:\n",
        "   a) Una defectuosa y una no defectuosa:\n",
        "  $F_1 = \\binom{d}{1} \\times \\binom{n-d}{k-1}$\n",
        "   b) Dos defectuosas (si $d \\geq 2$ y $k \\geq 2$):\n",
        "  $F_2 = \\binom{d}{2}$\n",
        "\n",
        "3. **Probabilidad de Rechazo**:\n",
        "   $P(\\text{rechazo}) = \\frac{F_1 + F_2}{S}$\n",
        "\n",
        "### Ejemplo Numérico\n",
        "\n",
        "Para $n = 4$, $d = 2$, y $k = 2$:\n",
        "\n",
        "1. $S = \\binom{4}{2} = 6$\n",
        "2. $F_1 = \\binom{2}{1} \\times \\binom{2}{1} = 4$\n",
        "   $F_2 = \\binom{2}{2} = 1$\n",
        "3. $P(\\text{rechazo}) = \\frac{4 + 1}{6} = \\frac{5}{6}$\n",
        "\n",
        "Este ejemplo ilustra cómo aplicar los conceptos de combinatoria y probabilidad en un escenario de control de calidad.\n"
      ],
      "metadata": {
        "id": "A-htk_V406fu"
      }
    },
    {
      "cell_type": "code",
      "source": [
        "import math\n",
        "\n",
        "def probabilidad_rechazo(n, d, k):\n",
        "    # Espacio muestral (S)\n",
        "    total_formas = math.comb(n, k)\n",
        "    formas_al_menos_una_defectuosa = 0\n",
        "\n",
        "    # Considerar todas las combinaciones de 1 hasta k defectuosas\n",
        "    for i in range(1, min(d, k) + 1):\n",
        "        formas_i_defectuosas = math.comb(d, i) * math.comb(n - d, k - i)\n",
        "        formas_al_menos_una_defectuosa += formas_i_defectuosas\n",
        "\n",
        "    # Probabilidad de rechazo\n",
        "    probabilidad = formas_al_menos_una_defectuosa / total_formas\n",
        "    return probabilidad\n",
        "\n",
        "# Ejemplo específico: n=4, d=2, k=2\n",
        "print(f\"Probabilidad de rechazo (n=4, d=2, k=2): {probabilidad_rechazo(4, 2, 2)}\")"
      ],
      "metadata": {
        "id": "lIqEAXTA0UFR",
        "colab": {
          "base_uri": "https://localhost:8080/"
        },
        "outputId": "64d647e1-2241-4cf2-bff8-fcf021a4a4af"
      },
      "execution_count": 1,
      "outputs": [
        {
          "output_type": "stream",
          "name": "stdout",
          "text": [
            "Probabilidad de rechazo (n=4, d=2, k=2): 0.8333333333333334\n"
          ]
        }
      ]
    },
    {
      "cell_type": "code",
      "source": [],
      "metadata": {
        "id": "on5R3TMT2Fmb"
      },
      "execution_count": null,
      "outputs": []
    },
    {
      "cell_type": "code",
      "source": [
        "# Tiempos de las llamadas en segundos\n",
        "tiempos_llamadas = [10, 28, 40, 46]\n",
        "\n",
        "# Calcular los intervalos entre llamadas consecutivas\n",
        "intervalos = [tiempos_llamadas[i+1] - tiempos_llamadas[i] for i in range(len(tiempos_llamadas) - 1)] # comprensión de listas, del inglés list comprehensions\n",
        "\n",
        "# Calcular el tiempo medio entre llamadas\n",
        "tiempo_medio = sum(intervalos) / len(intervalos)\n",
        "\n",
        "varianza_intervalos = sum([(intervalo - tiempo_medio)**2 for intervalo in intervalos]) / (len(intervalos))\n",
        "\n",
        "desviacion_estandar = math.sqrt(varianza_intervalos)\n",
        "\n",
        "# Mostrar resultados\n",
        "print(f\"Tiempos de las llamadas: {tiempos_llamadas}\")\n",
        "print(f\"Intervalos entre llamadas consecutivas: {intervalos}\")\n",
        "print(f\"Tiempo medio entre llamadas: {tiempo_medio} segundos\")\n",
        "print(f\"Varianza de intervalos: {varianza_intervalos}\")\n",
        "print(f\"Desviación estándar: {desviacion_estandar}\")"
      ],
      "metadata": {
        "id": "LQXVnjWS2F5h",
        "colab": {
          "base_uri": "https://localhost:8080/"
        },
        "outputId": "6d617ee8-c511-4d80-f465-237ec48e6f6f"
      },
      "execution_count": 2,
      "outputs": [
        {
          "output_type": "stream",
          "name": "stdout",
          "text": [
            "Tiempos de las llamadas: [10, 28, 40, 46]\n",
            "Intervalos entre llamadas consecutivas: [18, 12, 6]\n",
            "Tiempo medio entre llamadas: 12.0 segundos\n",
            "Varianza de intervalos: 24.0\n",
            "Desviación estándar: 4.898979485566356\n"
          ]
        }
      ]
    },
    {
      "cell_type": "markdown",
      "source": [
        "Antes de analizar el escenario, revisemos algunos conceptos esenciales:\n",
        "\n",
        "- **Espacio Muestral (S):** El conjunto de todos los posibles resultados de un experimento aleatorio.\n",
        "- **Evento:** Un subconjunto del espacio muestral.\n",
        "- **Probabilidad de un Evento:**  La probabilidad de un evento A, denotada como $P(A)$, es un valor numérico entre 0 y 1 que mide la posibilidad de que A ocurra. Se calcula como:\n",
        "  $P(A) = \\frac{\\text{Número de casos favorables a A}}{\\text{Número total de casos posibles en S}}$\n",
        "\n",
        "## Ejemplo 1: Intersección de Eventos\n",
        "\n",
        "Imaginemos que las piezas se clasifican según su longitud (L) y diámetro (D), con las siguientes categorías:\n",
        "\n",
        "| Diámetro / Longitud |  $(-\\infty, 19.9)$ | $[19.9, 20.1]$ | $(20.1, \\infty)$ |\n",
        "|---------------------|--------------------|----------------|--------------------|\n",
        "| $(-\\infty, 0.99)$   | A1                | B1              | C1                |\n",
        "| $[0.99, 1.01]$     | A2                | B2              | C2                |\n",
        "| $(1.01, \\infty)$   | A3                | B3              | C3                |\n",
        "\n",
        "**Pregunta:** ¿Es posible que una pieza pertenezca a las categorías A2 y A3 al mismo tiempo?\n",
        "\n",
        "**Análisis:**\n",
        "\n",
        "- **Categoría A2 (Longitud):**  Una pieza pertenece a A2 si su longitud está en el intervalo  $[0.99, 1.01]$.\n",
        "- **Categoría A3 (Longitud):** Una pieza pertenece a A3 si su longitud está en el intervalo $(1.01, \\infty)$.\n",
        "\n",
        "Observamos que estos intervalos no tienen ningún punto en común. Por lo tanto, es **imposible** que una pieza pertenezca simultáneamente a A2 y A3.  En términos de probabilidad, diríamos que la intersección de estos eventos es vacía: $P(A2 \\cap A3) = 0$\n",
        "\n",
        "## Ejemplo 2: Unión de Eventos\n",
        "\n",
        "**Pregunta:**  ¿Cuál es el rango de longitudes posible para las piezas que pertenecen a las categorías C1, C2 o C3?\n",
        "\n",
        "**Análisis:**\n",
        "\n",
        "- **Categorías C1, C2, C3 (Diámetro):**  Estas categorías comparten el mismo rango de diámetro: $(20.1, \\infty)$.\n",
        "- **Unión de Longitudes:** Para encontrar el rango total de longitudes, tomamos la unión de los intervalos de longitud de C1, C2 y C3:\n",
        "    - C1:  $(-\\infty, 0.99)$\n",
        "    - C2: $[0.99, 1.01]$\n",
        "    - C3:  $(1.01, \\infty)$\n",
        "\n",
        "La unión de estos intervalos resulta en: $(-\\infty, \\infty)$.\n",
        "\n",
        "**Respuesta:** Las piezas en las categorías C1, C2 o C3 pueden tener cualquier longitud."
      ],
      "metadata": {
        "id": "jdrFNEur2F_Q"
      }
    },
    {
      "cell_type": "code",
      "source": [
        "import pandas as pd\n",
        "from IPython.display import display, Markdown\n",
        "\n",
        "# Crear el DataFrame con las celdas correspondientes\n",
        "data = {\n",
        "    'Diámetro / Longitud': [r'$\\left(-\\infty, 19.9\\right)$', r'$\\left[19.9, 20.1\\right]$', r'$\\left(20.1, \\infty\\right)$'],\n",
        "    r'$\\left(-\\infty, 0.99\\right)$': ['A1', 'B1', 'C1'],\n",
        "    r'$\\left[0.99, 1.01\\right]$': ['A2', 'B2', 'C2'],\n",
        "    r'$\\left(1.01, \\infty\\right)$': ['A3', 'B3', 'C3'],\n",
        "}\n",
        "\n",
        "df = pd.DataFrame(data)\n",
        "\n",
        "# Convertir el DataFrame a una tabla de Markdown\n",
        "markdown_table = df.to_markdown(index=False)\n",
        "\n",
        "# Mostrar la tabla como Markdown\n",
        "display(Markdown(markdown_table))"
      ],
      "metadata": {
        "colab": {
          "base_uri": "https://localhost:8080/",
          "height": 155
        },
        "id": "d9agHyd57KMv",
        "outputId": "b914eeb7-824a-4809-d08d-c9209c1c4642"
      },
      "execution_count": null,
      "outputs": [
        {
          "output_type": "display_data",
          "data": {
            "text/plain": [
              "<IPython.core.display.Markdown object>"
            ],
            "text/markdown": "| Diámetro / Longitud          | $\\left(-\\infty, 0.99\\right)$   | $\\left[0.99, 1.01\\right]$   | $\\left(1.01, \\infty\\right)$   |\n|:-----------------------------|:-------------------------------|:----------------------------|:------------------------------|\n| $\\left(-\\infty, 19.9\\right)$ | A1                             | A2                          | A3                            |\n| $\\left[19.9, 20.1\\right]$    | B1                             | B2                          | B3                            |\n| $\\left(20.1, \\infty\\right)$  | C1                             | C2                          | C3                            |"
          },
          "metadata": {}
        }
      ]
    },
    {
      "cell_type": "code",
      "source": [
        "import pandas as pd\n",
        "from IPython.display import display, Markdown\n",
        "\n",
        "# Definir las categorías con intervalos más descriptivos\n",
        "categorias = {\n",
        "    'A1': {'longitud': r'$\\left(-\\infty, 0.99\\right)$', 'diametro': r'$\\left(-\\infty, 19.9\\right)$', 'label': 'A1'},\n",
        "    'A2': {'longitud': r'$\\left[0.99, 1.01\\right]$', 'diametro': r'$\\left(-\\infty, 19.9\\right)$', 'label': 'A2'},\n",
        "    'A3': {'longitud': r'$\\left(1.01, \\infty\\right)$', 'diametro': r'$\\left(-\\infty, 19.9\\right)$', 'label': 'A3'},\n",
        "    'B1': {'longitud': r'$\\left(-\\infty, 0.99\\right)$', 'diametro': r'$\\left[19.9, 20.1\\right]$', 'label': 'B1'},\n",
        "    'B2': {'longitud': r'$\\left[0.99, 1.01\\right]$', 'diametro': r'$\\left[19.9, 20.1\\right]$', 'label': 'B2'},\n",
        "    'B3': {'longitud': r'$\\left(1.01, \\infty\\right)$', 'diametro': r'$\\left[19.9, 20.1\\right]$', 'label': 'B3'},\n",
        "    'C1': {'longitud': r'$\\left(-\\infty, 0.99\\right)$', 'diametro': r'$\\left(20.1, \\infty\\right)$', 'label': 'C1'},\n",
        "    'C2': {'longitud': r'$\\left[0.99, 1.01\\right]$', 'diametro': r'$\\left(20.1, \\infty\\right)$', 'label': 'C2'},\n",
        "    'C3': {'longitud': r'$\\left(1.01, \\infty\\right)$', 'diametro': r'$\\left(20.1, \\infty\\right)$', 'label': 'C3'},\n",
        "}\n",
        "\n",
        "# Función para parsear y evaluar una condición\n",
        "def parsear_condicion(condicion):\n",
        "    condicion = condicion.replace(r'$\\left', '').replace(r'\\right$', '').replace(r'\\right', '').replace('$', '')\n",
        "    if ',' in condicion:\n",
        "        partes = condicion.strip('()[]').split(',')\n",
        "        inicio = float(partes[0].strip()) if partes[0].strip() != '-\\infty' else -float('inf')\n",
        "        fin = float(partes[1].strip()) if partes[1].strip() != '\\infty' else float('inf')\n",
        "        es_cerrado_inicio = condicion.startswith('[')\n",
        "        es_cerrado_fin = condicion.endswith(']')\n",
        "        return inicio, fin, es_cerrado_inicio, es_cerrado_fin\n",
        "    else:\n",
        "        raise ValueError(f\"Condición no soportada: {condicion}\")\n",
        "\n",
        "# Función para evaluar si hay intersección entre dos rangos\n",
        "def evaluar_interseccion(rango1, rango2):\n",
        "    inicio1, fin1, cerrado_inicio1, cerrado_fin1 = rango1\n",
        "    inicio2, fin2, cerrado_inicio2, cerrado_fin2 = rango2\n",
        "\n",
        "    if fin1 < inicio2 or fin2 < inicio1:\n",
        "        return False\n",
        "    if fin1 == inicio2:\n",
        "        return cerrado_fin1 and cerrado_inicio2\n",
        "    if fin2 == inicio1:\n",
        "        return cerrado_fin2 and cerrado_inicio1\n",
        "    return True\n",
        "\n",
        "# Función para evaluar la intersección y generar el contenido en Markdown\n",
        "def interseccion_markdown(categoria1, categoria2):\n",
        "    longitud_rango1 = parsear_condicion(categorias[categoria1]['longitud'])\n",
        "    diametro_rango1 = parsear_condicion(categorias[categoria1]['diametro'])\n",
        "    longitud_rango2 = parsear_condicion(categorias[categoria2]['longitud'])\n",
        "    diametro_rango2 = parsear_condicion(categorias[categoria2]['diametro'])\n",
        "\n",
        "    longitud_interseccion = evaluar_interseccion(longitud_rango1, longitud_rango2)\n",
        "    diametro_interseccion = evaluar_interseccion(diametro_rango1, diametro_rango2)\n",
        "\n",
        "    interseccion = longitud_interseccion and diametro_interseccion\n",
        "\n",
        "    longitud_markdown = f\"L: {categorias[categoria1]['longitud']} ∩ {categorias[categoria2]['longitud']}\"\n",
        "    diametro_markdown = f\"D: {categorias[categoria1]['diametro']} ∩ {categorias[categoria2]['diametro']}\"\n",
        "\n",
        "    resultado_longitud = \"Es posible\" if longitud_interseccion else \"Es imposible\"\n",
        "    resultado_diametro = \"Es posible\" if diametro_interseccion else \"Es imposible\"\n",
        "\n",
        "    resultado = \"Es posible\" if interseccion else \"Es imposible\"\n",
        "\n",
        "    markdown_content = f\"| Longitud | Diámetro |\\n|:-------------|:------------|\\n| {longitud_markdown} | {diametro_markdown} |\\n {resultado_longitud} | {resultado_diametro} |\\n| Resultado: {resultado} |\"\n",
        "\n",
        "    return markdown_content\n",
        "\n"
      ],
      "metadata": {
        "id": "wtfgfEg38w4m"
      },
      "execution_count": null,
      "outputs": []
    },
    {
      "cell_type": "code",
      "source": [],
      "metadata": {
        "id": "wO1AoRGqOCEM"
      },
      "execution_count": null,
      "outputs": []
    },
    {
      "cell_type": "markdown",
      "source": [],
      "metadata": {
        "id": "X7haQL2izwlE"
      }
    },
    {
      "cell_type": "code",
      "source": [
        "# Evaluar dos eventos específicos y generar la celda de Markdown\n",
        "categoria1 = 'A2'\n",
        "categoria2 = 'A3'\n",
        "markdown_output = interseccion_markdown(categoria1, categoria2)\n",
        "\n",
        "# Mostrar la celda de Markdown\n",
        "display(Markdown(markdown_output))"
      ],
      "metadata": {
        "colab": {
          "base_uri": "https://localhost:8080/",
          "height": 146
        },
        "id": "fJslMU1h8wNK",
        "outputId": "221b1dd4-2406-43ab-e7d8-b2284ddfe498"
      },
      "execution_count": null,
      "outputs": [
        {
          "output_type": "display_data",
          "data": {
            "text/plain": [
              "<IPython.core.display.Markdown object>"
            ],
            "text/markdown": "| Longitud | Diámetro |\n|:-------------|:------------|\n| L: $\\left[0.99, 1.01\\right]$ ∩ $\\left(1.01, \\infty\\right)$ | D: $\\left(-\\infty, 19.9\\right)$ ∩ $\\left(-\\infty, 19.9\\right)$ |\n Es imposible | Es posible |\n| Resultado: Es imposible |"
          },
          "metadata": {}
        }
      ]
    },
    {
      "cell_type": "code",
      "source": [
        "# Evaluar dos eventos específicos y generar la celda de Markdown\n",
        "categoria1 = 'A1'\n",
        "categoria2 = 'B2'\n",
        "markdown_output = interseccion_markdown(categoria1, categoria2)\n",
        "\n",
        "# Mostrar la celda de Markdown\n",
        "display(Markdown(markdown_output))"
      ],
      "metadata": {
        "colab": {
          "base_uri": "https://localhost:8080/",
          "height": 146
        },
        "id": "COgCWShlMsU1",
        "outputId": "da57b4db-ef2c-4f13-edc9-3a5c06ef7f77"
      },
      "execution_count": null,
      "outputs": [
        {
          "output_type": "display_data",
          "data": {
            "text/plain": [
              "<IPython.core.display.Markdown object>"
            ],
            "text/markdown": "| Longitud | Diámetro |\n|:-------------|:------------|\n| L: $\\left(-\\infty, 0.99\\right)$ ∩ $\\left[0.99, 1.01\\right]$ | D: $\\left(-\\infty, 19.9\\right)$ ∩ $\\left[19.9, 20.1\\right]$ |\n Es imposible | Es imposible |\n| Resultado: Es imposible |"
          },
          "metadata": {}
        }
      ]
    },
    {
      "cell_type": "code",
      "source": [
        "# Evaluar dos eventos específicos y generar la celda de Markdown\n",
        "categoria1 = 'A2'\n",
        "categoria2 = 'A1'\n",
        "markdown_output = interseccion_markdown(categoria1, categoria2)\n",
        "\n",
        "# Mostrar la celda de Markdown\n",
        "display(Markdown(markdown_output))"
      ],
      "metadata": {
        "colab": {
          "base_uri": "https://localhost:8080/",
          "height": 146
        },
        "id": "bPjmE8oS2UQx",
        "outputId": "0f4a282b-4e6b-42d1-b33d-4ec9a48e4164"
      },
      "execution_count": null,
      "outputs": [
        {
          "output_type": "display_data",
          "data": {
            "text/plain": [
              "<IPython.core.display.Markdown object>"
            ],
            "text/markdown": "| Longitud | Diámetro |\n|:-------------|:------------|\n| L: $\\left[0.99, 1.01\\right]$ ∩ $\\left(-\\infty, 0.99\\right)$ | D: $\\left(-\\infty, 19.9\\right)$ ∩ $\\left(-\\infty, 19.9\\right)$ |\n Es imposible | Es posible |\n| Resultado: Es imposible |"
          },
          "metadata": {}
        }
      ]
    },
    {
      "cell_type": "code",
      "source": [
        "import pandas as pd\n",
        "from IPython.display import display, Markdown\n",
        "\n",
        "# Definir las categorías con intervalos más descriptivos\n",
        "categorias = {\n",
        "    'A1': {'longitud': r'$\\left(-\\infty, 0.99\\right)$', 'diametro': r'$\\left(-\\infty, 19.9\\right)$', 'label': 'A1'},\n",
        "    'A2': {'longitud': r'$\\left[0.99, 1.01\\right]$', 'diametro': r'$\\left(-\\infty, 19.9\\right)$', 'label': 'A2'},\n",
        "    'A3': {'longitud': r'$\\left(1.01, \\infty\\right)$', 'diametro': r'$\\left(-\\infty, 19.9\\right)$', 'label': 'A3'},\n",
        "    'B1': {'longitud': r'$\\left(-\\infty, 0.99\\right)$', 'diametro': r'$\\left[19.9, 20.1\\right]$', 'label': 'B1'},\n",
        "    'B2': {'longitud': r'$\\left[0.99, 1.01\\right]$', 'diametro': r'$\\left[19.9, 20.1\\right]$', 'label': 'B2'},\n",
        "    'B3': {'longitud': r'$\\left(1.01, \\infty\\right)$', 'diametro': r'$\\left[19.9, 20.1\\right]$', 'label': 'B3'},\n",
        "    'C1': {'longitud': r'$\\left(-\\infty, 0.99\\right)$', 'diametro': r'$\\left(20.1, \\infty\\right)$', 'label': 'C1'},\n",
        "    'C2': {'longitud': r'$\\left[0.99, 1.01\\right]$', 'diametro': r'$\\left(20.1, \\infty\\right)$', 'label': 'C2'},\n",
        "    'C3': {'longitud': r'$\\left(1.01, \\infty\\right)$', 'diametro': r'$\\left(20.1, \\infty\\right)$', 'label': 'C3'},\n",
        "}\n",
        "\n",
        "# Función para parsear y evaluar una condición\n",
        "def parsear_condicion(condicion):\n",
        "    return condicion.replace(r'$\\left', '').replace(r'\\right$', '').replace(r'\\right', '').replace('$', '')\n",
        "\n",
        "# Función para generar la lista de intervalos en LaTeX\n",
        "def representar_intervalos(intervalos):\n",
        "    return ', '.join(f\"${intervalo}$\" for intervalo in intervalos)\n",
        "\n",
        "# Función para evaluar la unión y generar el contenido en Markdown\n",
        "def union_markdown(categorias):\n",
        "    rangos_longitud = [categorias[cat]['longitud'] for cat in categorias]\n",
        "    rangos_diametro = [categorias[cat]['diametro'] for cat in categorias]\n",
        "\n",
        "    longitud_markdown = representar_intervalos(rangos_longitud)\n",
        "    diametro_markdown = representar_intervalos(rangos_diametro)\n",
        "\n",
        "    markdown_content = f\"| Longitud | Diámetro |\\n|:-------------|:------------|\\n| {longitud_markdown} | {diametro_markdown} |\"\n",
        "\n",
        "    return markdown_content\n"
      ],
      "metadata": {
        "id": "D_KO7hDX575j"
      },
      "execution_count": null,
      "outputs": []
    },
    {
      "cell_type": "code",
      "source": [
        "import pandas as pd\n",
        "from IPython.display import display, Markdown\n",
        "\n",
        "# Crear el DataFrame con las celdas correspondientes\n",
        "data = {\n",
        "    'Diámetro / Longitud': [r'$\\left(-\\infty, 19.9\\right)$', r'$\\left[19.9, 20.1\\right]$', r'$\\left(20.1, \\infty\\right)$'],\n",
        "    r'$\\left(-\\infty, 0.99\\right)$': ['A1', 'B1', 'C1'],\n",
        "    r'$\\left[0.99, 1.01\\right]$': ['A2', 'B2', 'C2'],\n",
        "    r'$\\left(1.01, \\infty\\right)$': ['A3', 'B3', 'C3'],\n",
        "}\n",
        "\n",
        "df = pd.DataFrame(data)\n",
        "\n",
        "# Convertir el DataFrame a una tabla de Markdown\n",
        "markdown_table = df.to_markdown(index=False)\n",
        "\n",
        "# Mostrar la tabla como Markdown\n",
        "display(Markdown(markdown_table))"
      ],
      "metadata": {
        "colab": {
          "base_uri": "https://localhost:8080/",
          "height": 155
        },
        "id": "MkqYqVyKXMRR",
        "outputId": "a0892923-2f43-4645-f0d0-d4dad051dcc3"
      },
      "execution_count": null,
      "outputs": [
        {
          "output_type": "display_data",
          "data": {
            "text/plain": [
              "<IPython.core.display.Markdown object>"
            ],
            "text/markdown": "| Diámetro / Longitud          | $\\left(-\\infty, 0.99\\right)$   | $\\left[0.99, 1.01\\right]$   | $\\left(1.01, \\infty\\right)$   |\n|:-----------------------------|:-------------------------------|:----------------------------|:------------------------------|\n| $\\left(-\\infty, 19.9\\right)$ | A1                             | A2                          | A3                            |\n| $\\left[19.9, 20.1\\right]$    | B1                             | B2                          | B3                            |\n| $\\left(20.1, \\infty\\right)$  | C1                             | C2                          | C3                            |"
          },
          "metadata": {}
        }
      ]
    },
    {
      "cell_type": "code",
      "source": [
        "# Evaluar la unión de dos o más eventos específicos y generar la celda de Markdown\n",
        "categorias_union = ['C1', 'C2', 'C3']\n",
        "categorias_seleccionadas = {cat: categorias[cat] for cat in categorias_union}\n",
        "markdown_output = union_markdown(categorias_seleccionadas)\n",
        "\n",
        "# Mostrar la celda de Markdown\n",
        "display(Markdown(markdown_output))\n",
        "\n"
      ],
      "metadata": {
        "colab": {
          "base_uri": "https://localhost:8080/",
          "height": 159
        },
        "id": "Pt25nuBuWj3B",
        "outputId": "26b06d12-bbf3-4df1-82bc-bb645efcd1c5"
      },
      "execution_count": null,
      "outputs": [
        {
          "output_type": "display_data",
          "data": {
            "text/plain": [
              "<IPython.core.display.Markdown object>"
            ],
            "text/markdown": "| Longitud | Diámetro |\n|:-------------|:------------|\n| $$\\left(-\\infty, 0.99\\right)$$, $$\\left[0.99, 1.01\\right]$$, $$\\left(1.01, \\infty\\right)$$ | $$\\left(20.1, \\infty\\right)$$, $$\\left(20.1, \\infty\\right)$$, $$\\left(20.1, \\infty\\right)$$ |"
          },
          "metadata": {}
        }
      ]
    },
    {
      "cell_type": "markdown",
      "source": [
        "## Ejemplo 3: Influencia de una Constante en la Media y la Desviación Estándar\n",
        "\n",
        "**Pregunta:**  ¿Cómo afecta la suma de una constante a todos los valores de un conjunto de datos a su media y desviación estándar?\n",
        "\n",
        "**Análisis:**\n",
        "\n",
        "- **Media:** La media se ve afectada directamente por la suma de una constante. Si sumamos una constante *c* a cada valor, la media también aumentará en *c*.\n",
        "- **Desviación Estándar:** La desviación estándar mide la dispersión de los datos alrededor de la media. Sumar una constante no cambia la dispersión relativa de los datos, por lo que la desviación estándar **no se ve afectada**.\n",
        "\n",
        "**Ejemplo en Python:**"
      ],
      "metadata": {
        "id": "Sv2vQjzb-pYL"
      }
    },
    {
      "cell_type": "code",
      "source": [
        "import numpy as np\n",
        "\n",
        "datos = np.array([1, 2, 3, 4, 5])\n",
        "constante = 3\n",
        "datos_modificados = datos + constante\n",
        "\n",
        "print(f\"Media original: {np.mean(datos)}, Desviación estándar original: {np.std(datos)}\")\n",
        "print(f\"Media modificada: {np.mean(datos_modificados)}, Desviación estándar modificada: {np.std(datos_modificados)}\")"
      ],
      "metadata": {
        "colab": {
          "base_uri": "https://localhost:8080/"
        },
        "id": "bwUBI3Qd-yQp",
        "outputId": "1bf206cb-3e17-48cc-fcbf-bad12cf080c9"
      },
      "execution_count": null,
      "outputs": [
        {
          "output_type": "stream",
          "name": "stdout",
          "text": [
            "Media original: 3.0, Desviación estándar original: 1.4142135623730951\n",
            "Media modificada: 6.0, Desviación estándar modificada: 1.4142135623730951\n"
          ]
        }
      ]
    }
  ]
}