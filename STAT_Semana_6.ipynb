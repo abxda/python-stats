{
  "nbformat": 4,
  "nbformat_minor": 0,
  "metadata": {
    "colab": {
      "provenance": [],
      "authorship_tag": "ABX9TyONE/Z/SoQAimsj2Op6TFsl",
      "include_colab_link": true
    },
    "kernelspec": {
      "name": "python3",
      "display_name": "Python 3"
    },
    "language_info": {
      "name": "python"
    }
  },
  "cells": [
    {
      "cell_type": "markdown",
      "metadata": {
        "id": "view-in-github",
        "colab_type": "text"
      },
      "source": [
        "<a href=\"https://colab.research.google.com/github/abxda/python-stats/blob/main/STAT_Semana_6.ipynb\" target=\"_parent\"><img src=\"https://colab.research.google.com/assets/colab-badge.svg\" alt=\"Open In Colab\"/></a>"
      ]
    },
    {
      "cell_type": "markdown",
      "source": [
        "# Distribución de Poisson con Python\n",
        "\n",
        "## Introducción\n",
        "\n",
        "La distribución de Poisson es una herramienta fundamental en estadística y probabilidad. Se utiliza para modelar la ocurrencia de eventos discretos en un intervalo continuo, como tiempo, espacio o volumen.\n",
        "\n",
        "### Características principales:\n",
        "\n",
        "1. Variable aleatoria: Número de sucesos que ocurren en un intervalo fijo.\n",
        "2. Probabilidad constante: A lo largo del intervalo considerado, la probabilidad por unidad de medida es constante.\n",
        "3. Independencia: La ocurrencia de un suceso es independiente de la ocurrencia de cualquier otro.\n",
        "\n",
        "### Aplicaciones comunes:\n",
        "\n",
        "- Llamadas en un centro de atención telefónica\n",
        "- Acceso de automóviles a un estacionamiento\n",
        "- Paso de vehículos por una carretera o calle\n",
        "- Llegada de clientes a las cajas de un supermercado\n",
        "- Errores en paquetes de información en líneas de comunicación\n",
        "- Defectos en procesos de fabricación\n",
        "- Anomalías durante procesos rutinarios\n",
        "- Alertas tempranas en sistemas\n",
        "\n",
        "## Importación de bibliotecas\n",
        "\n",
        "Primero, importemos las bibliotecas necesarias:"
      ],
      "metadata": {
        "id": "_TfgdkjrZocQ"
      }
    },
    {
      "cell_type": "code",
      "execution_count": null,
      "metadata": {
        "id": "vKUa_A5RZd2x"
      },
      "outputs": [],
      "source": [
        "import math\n",
        "import matplotlib.pyplot as plt\n",
        "import numpy as np\n",
        "from scipy.stats import poisson"
      ]
    },
    {
      "cell_type": "markdown",
      "source": [
        "## Fórmula de la distribución de Poisson\n",
        "\n",
        "La probabilidad de que ocurran exactamente $k$ eventos en un intervalo dado, con una tasa promedio de ocurrencia $\\lambda$ (lambda), se calcula mediante la siguiente fórmula:\n",
        "\n",
        "$$P(X = k) = \\frac{e^{-\\lambda} \\cdot \\lambda^k}{k!}$$\n",
        "\n",
        "Donde:\n",
        "- $P(X = k)$: Probabilidad de que ocurran $k$ eventos\n",
        "- $e$: Constante matemática (aproximadamente 2.71828)\n",
        "- $\\lambda$: Tasa promedio de ocurrencia de eventos en el intervalo (media y varianza)\n",
        "- $k$: Número de eventos cuya probabilidad se desea calcular\n",
        "- $k!$: Factorial de $k$\n",
        "\n",
        "## Implementación en Python\n",
        "\n",
        "Implementemos la función para calcular la probabilidad de Poisson:\n"
      ],
      "metadata": {
        "id": "jqTMuThCflYB"
      }
    },
    {
      "cell_type": "code",
      "source": [
        "def poisson_probability(lambda_param, k):\n",
        "    \"\"\"\n",
        "    Calcula la probabilidad de k eventos en una distribución de Poisson.\n",
        "\n",
        "    Args:\n",
        "        lambda_param (float): Tasa promedio de ocurrencia de eventos.\n",
        "        k (int): Número de eventos cuya probabilidad se desea calcular.\n",
        "\n",
        "    Returns:\n",
        "        float: Probabilidad de k eventos.\n",
        "    \"\"\"\n",
        "    return (math.exp(-lambda_param) * lambda_param**k) / math.factorial(k)"
      ],
      "metadata": {
        "id": "M-_PQz0HgPR9"
      },
      "execution_count": null,
      "outputs": []
    },
    {
      "cell_type": "markdown",
      "source": [
        "## Visualización de la distribución de Poisson\n",
        "\n",
        "Vamos a visualizar la distribución de Poisson para diferentes valores de λ:"
      ],
      "metadata": {
        "id": "n13ljo3LjvpF"
      }
    },
    {
      "cell_type": "code",
      "source": [
        "def plot_poisson_distribution(lambda_params):\n",
        "    \"\"\"\n",
        "    Grafica la distribución de Poisson para diferentes valores de lambda.\n",
        "\n",
        "    Args:\n",
        "        lambda_params (list): Lista de valores de lambda a graficar.\n",
        "    \"\"\"\n",
        "    fig, ax = plt.subplots(figsize=(12, 6))\n",
        "\n",
        "    for lambda_param in lambda_params:\n",
        "        x = np.arange(0, 20)\n",
        "        y = [poisson_probability(lambda_param, k) for k in x]\n",
        "        ax.plot(x, y, marker='o', label=f'λ = {lambda_param}')\n",
        "\n",
        "    ax.set_xlabel('Número de eventos (k)')\n",
        "    ax.set_ylabel('Probabilidad')\n",
        "    ax.set_title('Distribución de Poisson para diferentes valores de λ')\n",
        "    ax.legend()\n",
        "    ax.grid(True, alpha=0.3)\n",
        "    plt.show()\n",
        "\n",
        "# Graficamos para diferentes valores de lambda\n",
        "plot_poisson_distribution([1, 2, 4, 6])"
      ],
      "metadata": {
        "id": "Dg9jk8chjwO0"
      },
      "execution_count": null,
      "outputs": []
    },
    {
      "cell_type": "markdown",
      "source": [
        "## Ejemplos prácticos\n",
        "\n",
        "### Ejemplo 1: Defectos en una línea de producción\n",
        "\n",
        "En una línea de fabricación se encuentran 2 piezas defectuosas por minuto en promedio. Calculemos la probabilidad de encontrar 2 o menos piezas defectuosas en un minuto.\n",
        "\n"
      ],
      "metadata": {
        "id": "aeGTH8aykfZD"
      }
    },
    {
      "cell_type": "code",
      "source": [
        "lambda_param = 2  # Promedio de 2 piezas defectuosas por minuto\n",
        "\n",
        "# Calculamos las probabilidades para 0, 1 y 2 piezas defectuosas\n",
        "prob_0 = poisson_probability(lambda_param, 0)\n",
        "prob_1 = poisson_probability(lambda_param, 1)\n",
        "prob_2 = poisson_probability(lambda_param, 2)\n",
        "\n",
        "# Sumamos las probabilidades\n",
        "total_prob = prob_0 + prob_1 + prob_2\n",
        "\n",
        "print(f\"Probabilidad de 0 piezas defectuosas: {prob_0:.4f}\")\n",
        "print(f\"Probabilidad de 1 pieza defectuosa: {prob_1:.4f}\")\n",
        "print(f\"Probabilidad de 2 piezas defectuosas: {prob_2:.4f}\")\n",
        "print(f\"Probabilidad de 2 o menos piezas defectuosas: {total_prob:.4f}\")\n",
        "print(f\"Probabilidad de más de 2 piezas defectuosas: {1 - total_prob:.4f}\")\n"
      ],
      "metadata": {
        "id": "gBJiPCbKkgEu"
      },
      "execution_count": null,
      "outputs": []
    },
    {
      "cell_type": "markdown",
      "source": [
        "### Ejemplo 2: Centro de venta telefónica\n",
        "\n",
        "Un centro de venta telefónica dispone de 4 vendedores. En promedio, los vendedores realizan 4 ventas por hora sumando las de todos ellos.\n",
        "\n",
        "1. Calculemos la probabilidad de que en los primeros 15 minutos se haya realizado alguna venta.\n",
        "2. Calculemos la probabilidad de que en la primera hora se hayan realizado 4 ventas o más."
      ],
      "metadata": {
        "id": "wtcN0QpnlDl6"
      }
    },
    {
      "cell_type": "code",
      "source": [
        "\n",
        "# 1. Probabilidad de alguna venta en 15 minutos\n",
        "lambda_15min = 4 / 4  # Lambda para 15 minutos (1/4 de hora)\n",
        "prob_no_sales = poisson_probability(lambda_15min, 0)\n",
        "prob_some_sales = 1 - prob_no_sales\n",
        "\n",
        "print(f\"Probabilidad de alguna venta en 15 minutos: {prob_some_sales:.4f}\")\n"
      ],
      "metadata": {
        "id": "IVvg6uC8lCbw"
      },
      "execution_count": null,
      "outputs": []
    },
    {
      "cell_type": "code",
      "source": [
        "# 2. Probabilidad de 4 o más ventas en una hora\n",
        "lambda_1hour = 4  # Lambda para 1 hora\n",
        "prob_0_to_3 = sum(poisson_probability(lambda_1hour, k) for k in range(4))\n",
        "prob_4_or_more = 1 - prob_0_to_3\n",
        "\n",
        "print(f\"Probabilidad de 4 o más ventas en una hora: {prob_4_or_more:.4f}\")"
      ],
      "metadata": {
        "id": "Vin2wwfHk9XG"
      },
      "execution_count": null,
      "outputs": []
    },
    {
      "cell_type": "markdown",
      "source": [
        "### Ejemplo 3: Supermercado\n",
        "\n",
        "En un supermercado los clientes llegan a las cajas a razón de un cliente por minuto de media. La compra media de cada cliente es de 50 €. ¿Cuántos minutos tardarán en recaudar 100 € con una probabilidad igual o mayor del 80%?"
      ],
      "metadata": {
        "id": "feKkZ7eEpNSF"
      }
    },
    {
      "cell_type": "code",
      "source": [
        "\n",
        "def time_to_reach_target(target_amount, avg_purchase, arrival_rate, target_probability):\n",
        "    minutes = 1\n",
        "    while True:\n",
        "        lambda_param = arrival_rate * minutes\n",
        "        customers_needed = math.ceil(target_amount / avg_purchase)\n",
        "        prob = 1 - sum(poisson_probability(lambda_param, k) for k in range(customers_needed))\n",
        "        if prob >= target_probability:\n",
        "            return minutes\n",
        "        minutes += 1\n",
        "\n",
        "target_amount = 100\n",
        "avg_purchase = 50\n",
        "arrival_rate = 1  # cliente por minuto\n",
        "target_probability = 0.80\n",
        "\n",
        "minutes_needed = time_to_reach_target(target_amount, avg_purchase, arrival_rate, target_probability)\n",
        "print(f\"Se necesitan {minutes_needed} minutos para recaudar {target_amount}€ con una probabilidad del {target_probability*100}% o mayor.\")\n"
      ],
      "metadata": {
        "id": "hAi8Hu-3pOBu"
      },
      "execution_count": null,
      "outputs": []
    },
    {
      "cell_type": "markdown",
      "source": [
        "\n",
        "## Importancia en el control de procesos\n",
        "\n",
        "La distribución de Poisson es especialmente útil en el control de procesos por dos razones principales:\n",
        "\n",
        "1. Modelado de eventos poco frecuentes: Es ideal para modelar sucesos que ocurren ocasionalmente durante procesos regulares, donde la probabilidad de ocurrencia es relativamente pequeña.\n",
        "\n",
        "2. Detección de anomalías: Cuando un proceso deja de seguir una distribución de Poisson, puede ser indicativo de una anomalía importante. Por ejemplo, un aumento en la tasa de defectos en una línea de producción podría señalar la necesidad de mantenimiento.\n",
        "\n",
        "\n"
      ],
      "metadata": {
        "id": "BCt3-9Hlrkxh"
      }
    },
    {
      "cell_type": "markdown",
      "source": [
        "## Conclusión\n",
        "\n",
        "La distribución de Poisson es una herramienta poderosa para modelar eventos discretos en intervalos continuos, especialmente útil en ingeniería de organización y control de procesos. Recuerda que esta distribución es más precisa cuando:\n",
        "\n",
        "1. El número de ensayos es grande.\n",
        "2. La probabilidad de éxito en cada ensayo es pequeña.\n",
        "3. El número de ensayos multiplicado por la probabilidad de éxito es moderado.\n",
        "\n",
        "Además, es importante estar atento a las desviaciones de la distribución de Poisson, ya que pueden indicar cambios significativos en el proceso que se está analizando."
      ],
      "metadata": {
        "id": "l58yJXvcuiXI"
      }
    },
    {
      "cell_type": "code",
      "source": [],
      "metadata": {
        "id": "3lwKJVh7rlPT"
      },
      "execution_count": null,
      "outputs": []
    }
  ]
}